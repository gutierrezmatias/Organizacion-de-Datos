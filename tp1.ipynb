{
 "cells": [
  {
   "cell_type": "markdown",
   "metadata": {},
   "source": [
    "# Índice\n",
    "1. [Set up inicial](#Set-up-inicial)\n",
    "    \n",
    "    1.1 [Carga de datos](#Carga-de-datos)\n",
    "    \n",
    "    1.2 [Informacion del dataset de edificios](#Informacion-del-dataset-de-edificios)\n",
    "    \n",
    "    1.3 [Informacion del dataset de daños](#Informacion-del-dataset-de-daños)\n",
    "2. [Entendiendo el data set](#Entendiendo-el-data-set)\n",
    "    \n",
    "    2.1 [Descubriendo el dataframe de edificios](#Descubriendo-el-dataframe-de-edificios)"
   ]
  },
  {
   "cell_type": "markdown",
   "metadata": {},
   "source": [
    "## Set up inicial"
   ]
  },
  {
   "cell_type": "code",
   "execution_count": 1,
   "metadata": {
    "id": "mQDwnOebRYb5"
   },
   "outputs": [],
   "source": [
    "# importacion general de librerias y de visualizacion (matplotlib y seaborn)\n",
    "import pandas as pd\n",
    "import numpy as np\n",
    "import matplotlib.pyplot as plt\n",
    "import seaborn as sns\n",
    "import random as rd\n",
    "%matplotlib inline\n",
    "\n",
    "plt.style.use('default') # haciendo los graficos un poco mas bonitos en matplotlib\n",
    "#plt.rcParams['figure.figsize'] = (20, 10)\n",
    "\n",
    "sns.set(style=\"whitegrid\") # seteando tipo de grid en seaborn\n",
    "\n",
    "pd.options.display.float_format = '{:20,.2f}'.format # suprimimos la notacion cientifica en los outputs\n",
    "\n",
    "import warnings\n",
    "warnings.filterwarnings('ignore')"
   ]
  },
  {
   "cell_type": "markdown",
   "metadata": {},
   "source": [
    "## Carga de datos"
   ]
  },
  {
   "cell_type": "markdown",
   "metadata": {},
   "source": [
    "Se cargan las columnas con formatos adecuados según el tipo de datos"
   ]
  },
  {
   "cell_type": "code",
   "execution_count": 2,
   "metadata": {},
   "outputs": [],
   "source": [
    "#Levantar los datos de cada edificio/casa\n",
    "df = pd.read_csv('datos/train_values.csv',nrows=0)\n",
    "columnas = df.columns.to_list()\n",
    "datatypes = {\n",
    "    **{columnas[0]:np.int32}\\\n",
    "    , **{column:np.int16 for column in columnas[1:8] + columnas[27:28]}\\\n",
    "    , **{column:'category' for column in columnas[8:15] + columnas[26:27]}\\\n",
    "    , **{column:np.bool for column in columnas[15:26] + columnas[28:39]}\n",
    "}\n",
    "edificios = pd.read_csv('datos/train_values.csv',dtype=datatypes)"
   ]
  },
  {
   "cell_type": "code",
   "execution_count": 3,
   "metadata": {},
   "outputs": [],
   "source": [
    "#Datos de el daño por edificio\n",
    "daños = pd.read_csv('datos/train_labels.csv',dtype={'building_id':np.int32,'damage_grade':'category'})"
   ]
  },
  {
   "cell_type": "markdown",
   "metadata": {},
   "source": [
    "## Informacion del dataset de edificios"
   ]
  },
  {
   "cell_type": "code",
   "execution_count": 4,
   "metadata": {},
   "outputs": [
    {
     "name": "stdout",
     "output_type": "stream",
     "text": [
      "<class 'pandas.core.frame.DataFrame'>\n",
      "RangeIndex: 260601 entries, 0 to 260600\n",
      "Data columns (total 39 columns):\n",
      " #   Column                                  Non-Null Count   Dtype   \n",
      "---  ------                                  --------------   -----   \n",
      " 0   building_id                             260601 non-null  int32   \n",
      " 1   geo_level_1_id                          260601 non-null  int16   \n",
      " 2   geo_level_2_id                          260601 non-null  int16   \n",
      " 3   geo_level_3_id                          260601 non-null  int16   \n",
      " 4   count_floors_pre_eq                     260601 non-null  int16   \n",
      " 5   age                                     260601 non-null  int16   \n",
      " 6   area_percentage                         260601 non-null  int16   \n",
      " 7   height_percentage                       260601 non-null  int16   \n",
      " 8   land_surface_condition                  260601 non-null  category\n",
      " 9   foundation_type                         260601 non-null  category\n",
      " 10  roof_type                               260601 non-null  category\n",
      " 11  ground_floor_type                       260601 non-null  category\n",
      " 12  other_floor_type                        260601 non-null  category\n",
      " 13  position                                260601 non-null  category\n",
      " 14  plan_configuration                      260601 non-null  category\n",
      " 15  has_superstructure_adobe_mud            260601 non-null  bool    \n",
      " 16  has_superstructure_mud_mortar_stone     260601 non-null  bool    \n",
      " 17  has_superstructure_stone_flag           260601 non-null  bool    \n",
      " 18  has_superstructure_cement_mortar_stone  260601 non-null  bool    \n",
      " 19  has_superstructure_mud_mortar_brick     260601 non-null  bool    \n",
      " 20  has_superstructure_cement_mortar_brick  260601 non-null  bool    \n",
      " 21  has_superstructure_timber               260601 non-null  bool    \n",
      " 22  has_superstructure_bamboo               260601 non-null  bool    \n",
      " 23  has_superstructure_rc_non_engineered    260601 non-null  bool    \n",
      " 24  has_superstructure_rc_engineered        260601 non-null  bool    \n",
      " 25  has_superstructure_other                260601 non-null  bool    \n",
      " 26  legal_ownership_status                  260601 non-null  category\n",
      " 27  count_families                          260601 non-null  int16   \n",
      " 28  has_secondary_use                       260601 non-null  bool    \n",
      " 29  has_secondary_use_agriculture           260601 non-null  bool    \n",
      " 30  has_secondary_use_hotel                 260601 non-null  bool    \n",
      " 31  has_secondary_use_rental                260601 non-null  bool    \n",
      " 32  has_secondary_use_institution           260601 non-null  bool    \n",
      " 33  has_secondary_use_school                260601 non-null  bool    \n",
      " 34  has_secondary_use_industry              260601 non-null  bool    \n",
      " 35  has_secondary_use_health_post           260601 non-null  bool    \n",
      " 36  has_secondary_use_gov_office            260601 non-null  bool    \n",
      " 37  has_secondary_use_use_police            260601 non-null  bool    \n",
      " 38  has_secondary_use_other                 260601 non-null  bool    \n",
      "dtypes: bool(22), category(8), int16(8), int32(1)\n",
      "memory usage: 12.4 MB\n"
     ]
    }
   ],
   "source": [
    "edificios.info()"
   ]
  },
  {
   "cell_type": "markdown",
   "metadata": {},
   "source": [
    "Se puede ver que los datos utilizan los datatypes correspondientes según la información dada en la consigna. Esto es, teniendo en cuenta los rangos de cada columna, y verificando que no hay datos inválidos.\n",
    "\n",
    "Se puede apreciar que hay columnas relacionadas como la de uso secundario o superestructura."
   ]
  },
  {
   "cell_type": "code",
   "execution_count": 5,
   "metadata": {},
   "outputs": [
    {
     "data": {
      "text/html": [
       "<div>\n",
       "<style scoped>\n",
       "    .dataframe tbody tr th:only-of-type {\n",
       "        vertical-align: middle;\n",
       "    }\n",
       "\n",
       "    .dataframe tbody tr th {\n",
       "        vertical-align: top;\n",
       "    }\n",
       "\n",
       "    .dataframe thead th {\n",
       "        text-align: right;\n",
       "    }\n",
       "</style>\n",
       "<table border=\"1\" class=\"dataframe\">\n",
       "  <thead>\n",
       "    <tr style=\"text-align: right;\">\n",
       "      <th></th>\n",
       "      <th>building_id</th>\n",
       "      <th>geo_level_1_id</th>\n",
       "      <th>geo_level_2_id</th>\n",
       "      <th>geo_level_3_id</th>\n",
       "      <th>count_floors_pre_eq</th>\n",
       "      <th>age</th>\n",
       "      <th>area_percentage</th>\n",
       "      <th>height_percentage</th>\n",
       "      <th>land_surface_condition</th>\n",
       "      <th>foundation_type</th>\n",
       "      <th>...</th>\n",
       "      <th>has_secondary_use_agriculture</th>\n",
       "      <th>has_secondary_use_hotel</th>\n",
       "      <th>has_secondary_use_rental</th>\n",
       "      <th>has_secondary_use_institution</th>\n",
       "      <th>has_secondary_use_school</th>\n",
       "      <th>has_secondary_use_industry</th>\n",
       "      <th>has_secondary_use_health_post</th>\n",
       "      <th>has_secondary_use_gov_office</th>\n",
       "      <th>has_secondary_use_use_police</th>\n",
       "      <th>has_secondary_use_other</th>\n",
       "    </tr>\n",
       "  </thead>\n",
       "  <tbody>\n",
       "    <tr>\n",
       "      <th>0</th>\n",
       "      <td>802906</td>\n",
       "      <td>6</td>\n",
       "      <td>487</td>\n",
       "      <td>12198</td>\n",
       "      <td>2</td>\n",
       "      <td>30</td>\n",
       "      <td>6</td>\n",
       "      <td>5</td>\n",
       "      <td>t</td>\n",
       "      <td>r</td>\n",
       "      <td>...</td>\n",
       "      <td>False</td>\n",
       "      <td>False</td>\n",
       "      <td>False</td>\n",
       "      <td>False</td>\n",
       "      <td>False</td>\n",
       "      <td>False</td>\n",
       "      <td>False</td>\n",
       "      <td>False</td>\n",
       "      <td>False</td>\n",
       "      <td>False</td>\n",
       "    </tr>\n",
       "    <tr>\n",
       "      <th>1</th>\n",
       "      <td>28830</td>\n",
       "      <td>8</td>\n",
       "      <td>900</td>\n",
       "      <td>2812</td>\n",
       "      <td>2</td>\n",
       "      <td>10</td>\n",
       "      <td>8</td>\n",
       "      <td>7</td>\n",
       "      <td>o</td>\n",
       "      <td>r</td>\n",
       "      <td>...</td>\n",
       "      <td>False</td>\n",
       "      <td>False</td>\n",
       "      <td>False</td>\n",
       "      <td>False</td>\n",
       "      <td>False</td>\n",
       "      <td>False</td>\n",
       "      <td>False</td>\n",
       "      <td>False</td>\n",
       "      <td>False</td>\n",
       "      <td>False</td>\n",
       "    </tr>\n",
       "    <tr>\n",
       "      <th>2</th>\n",
       "      <td>94947</td>\n",
       "      <td>21</td>\n",
       "      <td>363</td>\n",
       "      <td>8973</td>\n",
       "      <td>2</td>\n",
       "      <td>10</td>\n",
       "      <td>5</td>\n",
       "      <td>5</td>\n",
       "      <td>t</td>\n",
       "      <td>r</td>\n",
       "      <td>...</td>\n",
       "      <td>False</td>\n",
       "      <td>False</td>\n",
       "      <td>False</td>\n",
       "      <td>False</td>\n",
       "      <td>False</td>\n",
       "      <td>False</td>\n",
       "      <td>False</td>\n",
       "      <td>False</td>\n",
       "      <td>False</td>\n",
       "      <td>False</td>\n",
       "    </tr>\n",
       "  </tbody>\n",
       "</table>\n",
       "<p>3 rows × 39 columns</p>\n",
       "</div>"
      ],
      "text/plain": [
       "   building_id  geo_level_1_id  geo_level_2_id  geo_level_3_id  \\\n",
       "0       802906               6             487           12198   \n",
       "1        28830               8             900            2812   \n",
       "2        94947              21             363            8973   \n",
       "\n",
       "   count_floors_pre_eq  age  area_percentage  height_percentage  \\\n",
       "0                    2   30                6                  5   \n",
       "1                    2   10                8                  7   \n",
       "2                    2   10                5                  5   \n",
       "\n",
       "  land_surface_condition foundation_type  ... has_secondary_use_agriculture  \\\n",
       "0                      t               r  ...                         False   \n",
       "1                      o               r  ...                         False   \n",
       "2                      t               r  ...                         False   \n",
       "\n",
       "  has_secondary_use_hotel has_secondary_use_rental  \\\n",
       "0                   False                    False   \n",
       "1                   False                    False   \n",
       "2                   False                    False   \n",
       "\n",
       "  has_secondary_use_institution has_secondary_use_school  \\\n",
       "0                         False                    False   \n",
       "1                         False                    False   \n",
       "2                         False                    False   \n",
       "\n",
       "   has_secondary_use_industry  has_secondary_use_health_post  \\\n",
       "0                       False                          False   \n",
       "1                       False                          False   \n",
       "2                       False                          False   \n",
       "\n",
       "   has_secondary_use_gov_office  has_secondary_use_use_police  \\\n",
       "0                         False                         False   \n",
       "1                         False                         False   \n",
       "2                         False                         False   \n",
       "\n",
       "   has_secondary_use_other  \n",
       "0                    False  \n",
       "1                    False  \n",
       "2                    False  \n",
       "\n",
       "[3 rows x 39 columns]"
      ]
     },
     "execution_count": 5,
     "metadata": {},
     "output_type": "execute_result"
    }
   ],
   "source": [
    "edificios.head(3)"
   ]
  },
  {
   "cell_type": "markdown",
   "metadata": {},
   "source": [
    "## Informacion del dataset de daños"
   ]
  },
  {
   "cell_type": "code",
   "execution_count": 6,
   "metadata": {},
   "outputs": [
    {
     "name": "stdout",
     "output_type": "stream",
     "text": [
      "<class 'pandas.core.frame.DataFrame'>\n",
      "RangeIndex: 260601 entries, 0 to 260600\n",
      "Data columns (total 2 columns):\n",
      " #   Column        Non-Null Count   Dtype   \n",
      "---  ------        --------------   -----   \n",
      " 0   building_id   260601 non-null  int32   \n",
      " 1   damage_grade  260601 non-null  category\n",
      "dtypes: category(1), int32(1)\n",
      "memory usage: 1.2 MB\n"
     ]
    }
   ],
   "source": [
    "daños.info()"
   ]
  },
  {
   "cell_type": "markdown",
   "metadata": {},
   "source": [
    "De la misma manera, según el enunciado, podemos asignar al damage_grade como tipo categórico. "
   ]
  },
  {
   "cell_type": "code",
   "execution_count": 7,
   "metadata": {},
   "outputs": [
    {
     "data": {
      "text/html": [
       "<div>\n",
       "<style scoped>\n",
       "    .dataframe tbody tr th:only-of-type {\n",
       "        vertical-align: middle;\n",
       "    }\n",
       "\n",
       "    .dataframe tbody tr th {\n",
       "        vertical-align: top;\n",
       "    }\n",
       "\n",
       "    .dataframe thead th {\n",
       "        text-align: right;\n",
       "    }\n",
       "</style>\n",
       "<table border=\"1\" class=\"dataframe\">\n",
       "  <thead>\n",
       "    <tr style=\"text-align: right;\">\n",
       "      <th></th>\n",
       "      <th>building_id</th>\n",
       "      <th>damage_grade</th>\n",
       "    </tr>\n",
       "  </thead>\n",
       "  <tbody>\n",
       "    <tr>\n",
       "      <th>0</th>\n",
       "      <td>802906</td>\n",
       "      <td>3</td>\n",
       "    </tr>\n",
       "    <tr>\n",
       "      <th>1</th>\n",
       "      <td>28830</td>\n",
       "      <td>2</td>\n",
       "    </tr>\n",
       "    <tr>\n",
       "      <th>2</th>\n",
       "      <td>94947</td>\n",
       "      <td>3</td>\n",
       "    </tr>\n",
       "  </tbody>\n",
       "</table>\n",
       "</div>"
      ],
      "text/plain": [
       "   building_id damage_grade\n",
       "0       802906            3\n",
       "1        28830            2\n",
       "2        94947            3"
      ]
     },
     "execution_count": 7,
     "metadata": {},
     "output_type": "execute_result"
    }
   ],
   "source": [
    "daños.head(3)"
   ]
  },
  {
   "cell_type": "markdown",
   "metadata": {},
   "source": [
    "## Entendiendo el dataset"
   ]
  },
  {
   "cell_type": "markdown",
   "metadata": {},
   "source": [
    "Según los datos disponibles, nos inducen a relacionar los edificios con el terremoto.\n",
    "\n",
    "Antes de relacionarlos directamente veamos si por separado nos pueden dar algún insight de la situación. Siempre orientado al terremoto ?"
   ]
  },
  {
   "cell_type": "markdown",
   "metadata": {},
   "source": [
    "## Descubriendo el dataframe de edificios"
   ]
  },
  {
   "cell_type": "code",
   "execution_count": 8,
   "metadata": {},
   "outputs": [
    {
     "data": {
      "text/plain": [
       "<AxesSubplot:>"
      ]
     },
     "execution_count": 8,
     "metadata": {},
     "output_type": "execute_result"
    },
    {
     "data": {
      "image/png": "[encoded data removed]",
      "text/plain": [
       "<Figure size 1500x500 with 1 Axes>"
      ]
     },
     "metadata": {},
     "output_type": "display_data"
    }
   ],
   "source": [
    "edificios['age'].value_counts().sort_index().plot(kind='bar',color='green',figsize=(15,5))"
   ]
  },
  {
   "cell_type": "code",
   "execution_count": 9,
   "metadata": {},
   "outputs": [
    {
     "data": {
      "text/plain": [
       "count             260,601.00\n",
       "mean                   26.54\n",
       "std                    73.57\n",
       "min                     0.00\n",
       "25%                    10.00\n",
       "50%                    15.00\n",
       "75%                    30.00\n",
       "max                   995.00\n",
       "Name: age, dtype: float64"
      ]
     },
     "execution_count": 9,
     "metadata": {},
     "output_type": "execute_result"
    }
   ],
   "source": [
    "edificios_edad = edificios['age']\n",
    "edificios_edad.describe()"
   ]
  },
  {
   "cell_type": "markdown",
   "metadata": {},
   "source": [
    "Hay valores muy alejados de la media, y al parecer ninguna entre 100 y 995.\n",
    "\n",
    "Me pregunto si estos casos serán significativos y si los puedo agrupar en una categoria"
   ]
  },
  {
   "cell_type": "code",
   "execution_count": 10,
   "metadata": {},
   "outputs": [
    {
     "data": {
      "text/plain": [
       "0.030715590837672294"
      ]
     },
     "execution_count": 10,
     "metadata": {},
     "output_type": "execute_result"
    }
   ],
   "source": [
    "edif_mas_105 = edificios_edad.loc[edificios_edad>100].value_counts().sort_index().sum()\n",
    "edif_mas_105/edificios_edad.sum() * 100"
   ]
  },
  {
   "cell_type": "markdown",
   "metadata": {},
   "source": [
    "Un 0.03% es bastante poco representantivo ?\n",
    "\n",
    "Veamos que pasa si agrupo estos valores"
   ]
  },
  {
   "cell_type": "code",
   "execution_count": 11,
   "metadata": {},
   "outputs": [
    {
     "data": {
      "text/plain": [
       "<AxesSubplot:>"
      ]
     },
     "execution_count": 11,
     "metadata": {},
     "output_type": "execute_result"
    },
    {
     "data": {
      "image/png": "[encoded data removed]",
      "text/plain": [
       "<Figure size 1500x500 with 1 Axes>"
      ]
     },
     "metadata": {},
     "output_type": "display_data"
    }
   ],
   "source": [
    "freq_edades = edificios.loc[edificios['age']<105,'age'].value_counts().sort_index()\n",
    "freq_edades = freq_edades.append(pd.Series({'+105':edif_mas_105}))\n",
    "freq_edades.plot(kind='bar',color='green',figsize=(15,5))"
   ]
  },
  {
   "cell_type": "markdown",
   "metadata": {},
   "source": [
    "No parece serlo, tampoco es una razón para descartar estos datos ya que pueden ser de importancia cuando se trata de catástrofes.\n",
    "Pero si está bien analizarla por separado\n",
    "\n",
    "Antes de continuar con las demás, veamos que relaciones tienen con otras columnas categoricas"
   ]
  },
  {
   "cell_type": "markdown",
   "metadata": {},
   "source": [
    "## Categoricos vs AGE\n",
    "\n",
    "La idea es crear un hilo por ejemplo:\n",
    "- Las casas mas antiguas, tienen la mayoria piso tipo r, y techo tipo k. Estas casas fueron las más dañadas por el terremoto"
   ]
  },
  {
   "cell_type": "code",
   "execution_count": 52,
   "metadata": {},
   "outputs": [],
   "source": [
    "#  8   land_surface_condition                  260601 non-null  category -> no interesante\n",
    "#  9   foundation_type                         260601 non-null  category -> no interesante\n",
    "#  10  roof_type                               260601 non-null  category -> las casas mas nuevas usan roof_type x\n",
    "#  11  ground_floor_type                       260601 non-null  category -> las casas mas nuevas usan ground_floor_type v\n",
    "#  12  other_floor_type                        260601 non-null  category -> no interesante\n",
    "#  13  position                                260601 non-null  category -> las casas mas viejas se orientan en la posicion o\n",
    "#  14  plan_configuration                      260601 non-null  category -> las casas con formato sismico 'm' suelen ser mas viejas\n",
    "edificios_low100 = edificios.loc[edificios['age']<=100,:]"
   ]
  },
  {
   "cell_type": "code",
   "execution_count": 53,
   "metadata": {},
   "outputs": [
    {
     "data": {
      "image/png": "[encoded data removed]",
      "text/plain": [
       "<Figure size 800x600 with 1 Axes>"
      ]
     },
     "metadata": {},
     "output_type": "display_data"
    }
   ],
   "source": [
    "f, ax = plt.subplots(figsize=(8, 6))\n",
    "fig = sns.boxplot(x='position', y=\"age\", data=edificios_low100)\n"
   ]
  },
  {
   "cell_type": "code",
   "execution_count": 54,
   "metadata": {},
   "outputs": [
    {
     "data": {
      "image/png": "[encoded data removed]",
      "text/plain": [
       "<Figure size 800x600 with 1 Axes>"
      ]
     },
     "metadata": {},
     "output_type": "display_data"
    }
   ],
   "source": [
    "f, ax = plt.subplots(figsize=(8, 6))\n",
    "fig = sns.boxplot(x='plan_configuration', y=\"age\", data=edificios_low100)\n"
   ]
  },
  {
   "cell_type": "markdown",
   "metadata": {},
   "source": [
    "## aca quiero analizar las superstructures"
   ]
  },
  {
   "cell_type": "code",
   "execution_count": 60,
   "metadata": {},
   "outputs": [
    {
     "data": {
      "text/plain": [
       "has_superstructure_adobe_mud              260601\n",
       "has_superstructure_mud_mortar_stone       260601\n",
       "has_superstructure_stone_flag             260601\n",
       "has_superstructure_cement_mortar_stone    260601\n",
       "has_superstructure_mud_mortar_brick       260601\n",
       "has_superstructure_cement_mortar_brick    260601\n",
       "has_superstructure_timber                 260601\n",
       "has_superstructure_bamboo                 260601\n",
       "has_superstructure_rc_non_engineered      260601\n",
       "has_superstructure_rc_engineered          260601\n",
       "dtype: int64"
      ]
     },
     "execution_count": 60,
     "metadata": {},
     "output_type": "execute_result"
    }
   ],
   "source": [
    "edificios.iloc[:,15:25].count(axis=0)"
   ]
  }
 ],
 "metadata": {
  "kernelspec": {
   "display_name": "Python 3",
   "language": "python",
   "name": "python3"
  },
  "language_info": {
   "codemirror_mode": {
    "name": "ipython",
    "version": 3
   },
   "file_extension": ".py",
   "mimetype": "text/x-python",
   "name": "python",
   "nbconvert_exporter": "python",
   "pygments_lexer": "ipython3",
   "version": "3.9.1"
  }
 },
 "nbformat": 4,
 "nbformat_minor": 4
}
