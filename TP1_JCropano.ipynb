{
 "cells": [
  {
   "cell_type": "code",
   "execution_count": 1,
   "metadata": {},
   "outputs": [],
   "source": [
    "import pandas as pd\n",
    "import numpy as np\n",
    "import seaborn as sns\n",
    "import matplotlib.pyplot as plt\n",
    "%matplotlib inline"
   ]
  },
  {
   "cell_type": "code",
   "execution_count": 2,
   "metadata": {},
   "outputs": [
    {
     "data": {
      "text/html": [
       "<div>\n",
       "<style scoped>\n",
       "    .dataframe tbody tr th:only-of-type {\n",
       "        vertical-align: middle;\n",
       "    }\n",
       "\n",
       "    .dataframe tbody tr th {\n",
       "        vertical-align: top;\n",
       "    }\n",
       "\n",
       "    .dataframe thead th {\n",
       "        text-align: right;\n",
       "    }\n",
       "</style>\n",
       "<table border=\"1\" class=\"dataframe\">\n",
       "  <thead>\n",
       "    <tr style=\"text-align: right;\">\n",
       "      <th></th>\n",
       "      <th>building_id</th>\n",
       "      <th>damage_grade</th>\n",
       "    </tr>\n",
       "  </thead>\n",
       "  <tbody>\n",
       "    <tr>\n",
       "      <th>0</th>\n",
       "      <td>802906</td>\n",
       "      <td>3</td>\n",
       "    </tr>\n",
       "    <tr>\n",
       "      <th>1</th>\n",
       "      <td>28830</td>\n",
       "      <td>2</td>\n",
       "    </tr>\n",
       "    <tr>\n",
       "      <th>2</th>\n",
       "      <td>94947</td>\n",
       "      <td>3</td>\n",
       "    </tr>\n",
       "    <tr>\n",
       "      <th>3</th>\n",
       "      <td>590882</td>\n",
       "      <td>2</td>\n",
       "    </tr>\n",
       "    <tr>\n",
       "      <th>4</th>\n",
       "      <td>201944</td>\n",
       "      <td>3</td>\n",
       "    </tr>\n",
       "    <tr>\n",
       "      <th>5</th>\n",
       "      <td>333020</td>\n",
       "      <td>2</td>\n",
       "    </tr>\n",
       "    <tr>\n",
       "      <th>6</th>\n",
       "      <td>728451</td>\n",
       "      <td>3</td>\n",
       "    </tr>\n",
       "    <tr>\n",
       "      <th>7</th>\n",
       "      <td>475515</td>\n",
       "      <td>1</td>\n",
       "    </tr>\n",
       "    <tr>\n",
       "      <th>8</th>\n",
       "      <td>441126</td>\n",
       "      <td>2</td>\n",
       "    </tr>\n",
       "    <tr>\n",
       "      <th>9</th>\n",
       "      <td>989500</td>\n",
       "      <td>1</td>\n",
       "    </tr>\n",
       "  </tbody>\n",
       "</table>\n",
       "</div>"
      ],
      "text/plain": [
       "   building_id  damage_grade\n",
       "0       802906             3\n",
       "1        28830             2\n",
       "2        94947             3\n",
       "3       590882             2\n",
       "4       201944             3\n",
       "5       333020             2\n",
       "6       728451             3\n",
       "7       475515             1\n",
       "8       441126             2\n",
       "9       989500             1"
      ]
     },
     "execution_count": 2,
     "metadata": {},
     "output_type": "execute_result"
    }
   ],
   "source": [
    "train_labels = pd.read_csv(\"/home/jcropano/Documentos/TP1/Organizacion-de-Datos/datos/train_labels.csv\")\n",
    "train_labels.head(10)"
   ]
  },
  {
   "cell_type": "code",
   "execution_count": 3,
   "metadata": {},
   "outputs": [
    {
     "data": {
      "text/html": [
       "<div>\n",
       "<style scoped>\n",
       "    .dataframe tbody tr th:only-of-type {\n",
       "        vertical-align: middle;\n",
       "    }\n",
       "\n",
       "    .dataframe tbody tr th {\n",
       "        vertical-align: top;\n",
       "    }\n",
       "\n",
       "    .dataframe thead th {\n",
       "        text-align: right;\n",
       "    }\n",
       "</style>\n",
       "<table border=\"1\" class=\"dataframe\">\n",
       "  <thead>\n",
       "    <tr style=\"text-align: right;\">\n",
       "      <th></th>\n",
       "      <th>building_id</th>\n",
       "      <th>geo_level_1_id</th>\n",
       "      <th>geo_level_2_id</th>\n",
       "      <th>geo_level_3_id</th>\n",
       "      <th>count_floors_pre_eq</th>\n",
       "      <th>age</th>\n",
       "      <th>area_percentage</th>\n",
       "      <th>height_percentage</th>\n",
       "      <th>land_surface_condition</th>\n",
       "      <th>foundation_type</th>\n",
       "      <th>...</th>\n",
       "      <th>has_secondary_use_agriculture</th>\n",
       "      <th>has_secondary_use_hotel</th>\n",
       "      <th>has_secondary_use_rental</th>\n",
       "      <th>has_secondary_use_institution</th>\n",
       "      <th>has_secondary_use_school</th>\n",
       "      <th>has_secondary_use_industry</th>\n",
       "      <th>has_secondary_use_health_post</th>\n",
       "      <th>has_secondary_use_gov_office</th>\n",
       "      <th>has_secondary_use_use_police</th>\n",
       "      <th>has_secondary_use_other</th>\n",
       "    </tr>\n",
       "  </thead>\n",
       "  <tbody>\n",
       "    <tr>\n",
       "      <th>0</th>\n",
       "      <td>802906</td>\n",
       "      <td>6</td>\n",
       "      <td>487</td>\n",
       "      <td>12198</td>\n",
       "      <td>2</td>\n",
       "      <td>30</td>\n",
       "      <td>6</td>\n",
       "      <td>5</td>\n",
       "      <td>t</td>\n",
       "      <td>r</td>\n",
       "      <td>...</td>\n",
       "      <td>0</td>\n",
       "      <td>0</td>\n",
       "      <td>0</td>\n",
       "      <td>0</td>\n",
       "      <td>0</td>\n",
       "      <td>0</td>\n",
       "      <td>0</td>\n",
       "      <td>0</td>\n",
       "      <td>0</td>\n",
       "      <td>0</td>\n",
       "    </tr>\n",
       "    <tr>\n",
       "      <th>1</th>\n",
       "      <td>28830</td>\n",
       "      <td>8</td>\n",
       "      <td>900</td>\n",
       "      <td>2812</td>\n",
       "      <td>2</td>\n",
       "      <td>10</td>\n",
       "      <td>8</td>\n",
       "      <td>7</td>\n",
       "      <td>o</td>\n",
       "      <td>r</td>\n",
       "      <td>...</td>\n",
       "      <td>0</td>\n",
       "      <td>0</td>\n",
       "      <td>0</td>\n",
       "      <td>0</td>\n",
       "      <td>0</td>\n",
       "      <td>0</td>\n",
       "      <td>0</td>\n",
       "      <td>0</td>\n",
       "      <td>0</td>\n",
       "      <td>0</td>\n",
       "    </tr>\n",
       "    <tr>\n",
       "      <th>2</th>\n",
       "      <td>94947</td>\n",
       "      <td>21</td>\n",
       "      <td>363</td>\n",
       "      <td>8973</td>\n",
       "      <td>2</td>\n",
       "      <td>10</td>\n",
       "      <td>5</td>\n",
       "      <td>5</td>\n",
       "      <td>t</td>\n",
       "      <td>r</td>\n",
       "      <td>...</td>\n",
       "      <td>0</td>\n",
       "      <td>0</td>\n",
       "      <td>0</td>\n",
       "      <td>0</td>\n",
       "      <td>0</td>\n",
       "      <td>0</td>\n",
       "      <td>0</td>\n",
       "      <td>0</td>\n",
       "      <td>0</td>\n",
       "      <td>0</td>\n",
       "    </tr>\n",
       "    <tr>\n",
       "      <th>3</th>\n",
       "      <td>590882</td>\n",
       "      <td>22</td>\n",
       "      <td>418</td>\n",
       "      <td>10694</td>\n",
       "      <td>2</td>\n",
       "      <td>10</td>\n",
       "      <td>6</td>\n",
       "      <td>5</td>\n",
       "      <td>t</td>\n",
       "      <td>r</td>\n",
       "      <td>...</td>\n",
       "      <td>0</td>\n",
       "      <td>0</td>\n",
       "      <td>0</td>\n",
       "      <td>0</td>\n",
       "      <td>0</td>\n",
       "      <td>0</td>\n",
       "      <td>0</td>\n",
       "      <td>0</td>\n",
       "      <td>0</td>\n",
       "      <td>0</td>\n",
       "    </tr>\n",
       "    <tr>\n",
       "      <th>4</th>\n",
       "      <td>201944</td>\n",
       "      <td>11</td>\n",
       "      <td>131</td>\n",
       "      <td>1488</td>\n",
       "      <td>3</td>\n",
       "      <td>30</td>\n",
       "      <td>8</td>\n",
       "      <td>9</td>\n",
       "      <td>t</td>\n",
       "      <td>r</td>\n",
       "      <td>...</td>\n",
       "      <td>0</td>\n",
       "      <td>0</td>\n",
       "      <td>0</td>\n",
       "      <td>0</td>\n",
       "      <td>0</td>\n",
       "      <td>0</td>\n",
       "      <td>0</td>\n",
       "      <td>0</td>\n",
       "      <td>0</td>\n",
       "      <td>0</td>\n",
       "    </tr>\n",
       "    <tr>\n",
       "      <th>5</th>\n",
       "      <td>333020</td>\n",
       "      <td>8</td>\n",
       "      <td>558</td>\n",
       "      <td>6089</td>\n",
       "      <td>2</td>\n",
       "      <td>10</td>\n",
       "      <td>9</td>\n",
       "      <td>5</td>\n",
       "      <td>t</td>\n",
       "      <td>r</td>\n",
       "      <td>...</td>\n",
       "      <td>1</td>\n",
       "      <td>0</td>\n",
       "      <td>0</td>\n",
       "      <td>0</td>\n",
       "      <td>0</td>\n",
       "      <td>0</td>\n",
       "      <td>0</td>\n",
       "      <td>0</td>\n",
       "      <td>0</td>\n",
       "      <td>0</td>\n",
       "    </tr>\n",
       "    <tr>\n",
       "      <th>6</th>\n",
       "      <td>728451</td>\n",
       "      <td>9</td>\n",
       "      <td>475</td>\n",
       "      <td>12066</td>\n",
       "      <td>2</td>\n",
       "      <td>25</td>\n",
       "      <td>3</td>\n",
       "      <td>4</td>\n",
       "      <td>n</td>\n",
       "      <td>r</td>\n",
       "      <td>...</td>\n",
       "      <td>0</td>\n",
       "      <td>0</td>\n",
       "      <td>0</td>\n",
       "      <td>0</td>\n",
       "      <td>0</td>\n",
       "      <td>0</td>\n",
       "      <td>0</td>\n",
       "      <td>0</td>\n",
       "      <td>0</td>\n",
       "      <td>0</td>\n",
       "    </tr>\n",
       "    <tr>\n",
       "      <th>7</th>\n",
       "      <td>475515</td>\n",
       "      <td>20</td>\n",
       "      <td>323</td>\n",
       "      <td>12236</td>\n",
       "      <td>2</td>\n",
       "      <td>0</td>\n",
       "      <td>8</td>\n",
       "      <td>6</td>\n",
       "      <td>t</td>\n",
       "      <td>w</td>\n",
       "      <td>...</td>\n",
       "      <td>0</td>\n",
       "      <td>0</td>\n",
       "      <td>0</td>\n",
       "      <td>0</td>\n",
       "      <td>0</td>\n",
       "      <td>0</td>\n",
       "      <td>0</td>\n",
       "      <td>0</td>\n",
       "      <td>0</td>\n",
       "      <td>0</td>\n",
       "    </tr>\n",
       "    <tr>\n",
       "      <th>8</th>\n",
       "      <td>441126</td>\n",
       "      <td>0</td>\n",
       "      <td>757</td>\n",
       "      <td>7219</td>\n",
       "      <td>2</td>\n",
       "      <td>15</td>\n",
       "      <td>8</td>\n",
       "      <td>6</td>\n",
       "      <td>t</td>\n",
       "      <td>r</td>\n",
       "      <td>...</td>\n",
       "      <td>0</td>\n",
       "      <td>0</td>\n",
       "      <td>0</td>\n",
       "      <td>0</td>\n",
       "      <td>0</td>\n",
       "      <td>0</td>\n",
       "      <td>0</td>\n",
       "      <td>0</td>\n",
       "      <td>0</td>\n",
       "      <td>0</td>\n",
       "    </tr>\n",
       "    <tr>\n",
       "      <th>9</th>\n",
       "      <td>989500</td>\n",
       "      <td>26</td>\n",
       "      <td>886</td>\n",
       "      <td>994</td>\n",
       "      <td>1</td>\n",
       "      <td>0</td>\n",
       "      <td>13</td>\n",
       "      <td>4</td>\n",
       "      <td>t</td>\n",
       "      <td>i</td>\n",
       "      <td>...</td>\n",
       "      <td>0</td>\n",
       "      <td>0</td>\n",
       "      <td>0</td>\n",
       "      <td>0</td>\n",
       "      <td>0</td>\n",
       "      <td>0</td>\n",
       "      <td>0</td>\n",
       "      <td>0</td>\n",
       "      <td>0</td>\n",
       "      <td>0</td>\n",
       "    </tr>\n",
       "  </tbody>\n",
       "</table>\n",
       "<p>10 rows × 39 columns</p>\n",
       "</div>"
      ],
      "text/plain": [
       "   building_id  geo_level_1_id  geo_level_2_id  geo_level_3_id  \\\n",
       "0       802906               6             487           12198   \n",
       "1        28830               8             900            2812   \n",
       "2        94947              21             363            8973   \n",
       "3       590882              22             418           10694   \n",
       "4       201944              11             131            1488   \n",
       "5       333020               8             558            6089   \n",
       "6       728451               9             475           12066   \n",
       "7       475515              20             323           12236   \n",
       "8       441126               0             757            7219   \n",
       "9       989500              26             886             994   \n",
       "\n",
       "   count_floors_pre_eq  age  area_percentage  height_percentage  \\\n",
       "0                    2   30                6                  5   \n",
       "1                    2   10                8                  7   \n",
       "2                    2   10                5                  5   \n",
       "3                    2   10                6                  5   \n",
       "4                    3   30                8                  9   \n",
       "5                    2   10                9                  5   \n",
       "6                    2   25                3                  4   \n",
       "7                    2    0                8                  6   \n",
       "8                    2   15                8                  6   \n",
       "9                    1    0               13                  4   \n",
       "\n",
       "  land_surface_condition foundation_type  ... has_secondary_use_agriculture  \\\n",
       "0                      t               r  ...                             0   \n",
       "1                      o               r  ...                             0   \n",
       "2                      t               r  ...                             0   \n",
       "3                      t               r  ...                             0   \n",
       "4                      t               r  ...                             0   \n",
       "5                      t               r  ...                             1   \n",
       "6                      n               r  ...                             0   \n",
       "7                      t               w  ...                             0   \n",
       "8                      t               r  ...                             0   \n",
       "9                      t               i  ...                             0   \n",
       "\n",
       "  has_secondary_use_hotel has_secondary_use_rental  \\\n",
       "0                       0                        0   \n",
       "1                       0                        0   \n",
       "2                       0                        0   \n",
       "3                       0                        0   \n",
       "4                       0                        0   \n",
       "5                       0                        0   \n",
       "6                       0                        0   \n",
       "7                       0                        0   \n",
       "8                       0                        0   \n",
       "9                       0                        0   \n",
       "\n",
       "  has_secondary_use_institution has_secondary_use_school  \\\n",
       "0                             0                        0   \n",
       "1                             0                        0   \n",
       "2                             0                        0   \n",
       "3                             0                        0   \n",
       "4                             0                        0   \n",
       "5                             0                        0   \n",
       "6                             0                        0   \n",
       "7                             0                        0   \n",
       "8                             0                        0   \n",
       "9                             0                        0   \n",
       "\n",
       "   has_secondary_use_industry  has_secondary_use_health_post  \\\n",
       "0                           0                              0   \n",
       "1                           0                              0   \n",
       "2                           0                              0   \n",
       "3                           0                              0   \n",
       "4                           0                              0   \n",
       "5                           0                              0   \n",
       "6                           0                              0   \n",
       "7                           0                              0   \n",
       "8                           0                              0   \n",
       "9                           0                              0   \n",
       "\n",
       "   has_secondary_use_gov_office  has_secondary_use_use_police  \\\n",
       "0                             0                             0   \n",
       "1                             0                             0   \n",
       "2                             0                             0   \n",
       "3                             0                             0   \n",
       "4                             0                             0   \n",
       "5                             0                             0   \n",
       "6                             0                             0   \n",
       "7                             0                             0   \n",
       "8                             0                             0   \n",
       "9                             0                             0   \n",
       "\n",
       "   has_secondary_use_other  \n",
       "0                        0  \n",
       "1                        0  \n",
       "2                        0  \n",
       "3                        0  \n",
       "4                        0  \n",
       "5                        0  \n",
       "6                        0  \n",
       "7                        0  \n",
       "8                        0  \n",
       "9                        0  \n",
       "\n",
       "[10 rows x 39 columns]"
      ]
     },
     "execution_count": 3,
     "metadata": {},
     "output_type": "execute_result"
    }
   ],
   "source": [
    "train_values = pd.read_csv(\"/home/jcropano/Documentos/TP1/Organizacion-de-Datos/datos/train_values.csv\")\n",
    "train_values.head(10)"
   ]
  },
  {
   "cell_type": "code",
   "execution_count": 4,
   "metadata": {},
   "outputs": [
    {
     "data": {
      "text/html": [
       "<div>\n",
       "<style scoped>\n",
       "    .dataframe tbody tr th:only-of-type {\n",
       "        vertical-align: middle;\n",
       "    }\n",
       "\n",
       "    .dataframe tbody tr th {\n",
       "        vertical-align: top;\n",
       "    }\n",
       "\n",
       "    .dataframe thead th {\n",
       "        text-align: right;\n",
       "    }\n",
       "</style>\n",
       "<table border=\"1\" class=\"dataframe\">\n",
       "  <thead>\n",
       "    <tr style=\"text-align: right;\">\n",
       "      <th></th>\n",
       "      <th>building_id</th>\n",
       "      <th>age</th>\n",
       "    </tr>\n",
       "  </thead>\n",
       "  <tbody>\n",
       "    <tr>\n",
       "      <th>0</th>\n",
       "      <td>802906</td>\n",
       "      <td>30</td>\n",
       "    </tr>\n",
       "    <tr>\n",
       "      <th>1</th>\n",
       "      <td>28830</td>\n",
       "      <td>10</td>\n",
       "    </tr>\n",
       "    <tr>\n",
       "      <th>2</th>\n",
       "      <td>94947</td>\n",
       "      <td>10</td>\n",
       "    </tr>\n",
       "    <tr>\n",
       "      <th>3</th>\n",
       "      <td>590882</td>\n",
       "      <td>10</td>\n",
       "    </tr>\n",
       "    <tr>\n",
       "      <th>4</th>\n",
       "      <td>201944</td>\n",
       "      <td>30</td>\n",
       "    </tr>\n",
       "    <tr>\n",
       "      <th>5</th>\n",
       "      <td>333020</td>\n",
       "      <td>10</td>\n",
       "    </tr>\n",
       "    <tr>\n",
       "      <th>6</th>\n",
       "      <td>728451</td>\n",
       "      <td>25</td>\n",
       "    </tr>\n",
       "    <tr>\n",
       "      <th>7</th>\n",
       "      <td>475515</td>\n",
       "      <td>0</td>\n",
       "    </tr>\n",
       "    <tr>\n",
       "      <th>8</th>\n",
       "      <td>441126</td>\n",
       "      <td>15</td>\n",
       "    </tr>\n",
       "    <tr>\n",
       "      <th>9</th>\n",
       "      <td>989500</td>\n",
       "      <td>0</td>\n",
       "    </tr>\n",
       "  </tbody>\n",
       "</table>\n",
       "</div>"
      ],
      "text/plain": [
       "   building_id  age\n",
       "0       802906   30\n",
       "1        28830   10\n",
       "2        94947   10\n",
       "3       590882   10\n",
       "4       201944   30\n",
       "5       333020   10\n",
       "6       728451   25\n",
       "7       475515    0\n",
       "8       441126   15\n",
       "9       989500    0"
      ]
     },
     "execution_count": 4,
     "metadata": {},
     "output_type": "execute_result"
    }
   ],
   "source": [
    "#Para el primer análisis, queremos ver el daño de las casas según su antiguedad.\n",
    "#Filtramos las columnas importantes.\n",
    "building_age = train_values.loc[:,['building_id' , 'age']]\n",
    "building_age.head(10)"
   ]
  },
  {
   "cell_type": "code",
   "execution_count": 5,
   "metadata": {},
   "outputs": [
    {
     "data": {
      "text/html": [
       "<div>\n",
       "<style scoped>\n",
       "    .dataframe tbody tr th:only-of-type {\n",
       "        vertical-align: middle;\n",
       "    }\n",
       "\n",
       "    .dataframe tbody tr th {\n",
       "        vertical-align: top;\n",
       "    }\n",
       "\n",
       "    .dataframe thead th {\n",
       "        text-align: right;\n",
       "    }\n",
       "</style>\n",
       "<table border=\"1\" class=\"dataframe\">\n",
       "  <thead>\n",
       "    <tr style=\"text-align: right;\">\n",
       "      <th></th>\n",
       "      <th>building_id</th>\n",
       "      <th>age</th>\n",
       "      <th>damage_grade</th>\n",
       "    </tr>\n",
       "  </thead>\n",
       "  <tbody>\n",
       "    <tr>\n",
       "      <th>0</th>\n",
       "      <td>802906</td>\n",
       "      <td>30</td>\n",
       "      <td>3</td>\n",
       "    </tr>\n",
       "    <tr>\n",
       "      <th>1</th>\n",
       "      <td>28830</td>\n",
       "      <td>10</td>\n",
       "      <td>2</td>\n",
       "    </tr>\n",
       "    <tr>\n",
       "      <th>2</th>\n",
       "      <td>94947</td>\n",
       "      <td>10</td>\n",
       "      <td>3</td>\n",
       "    </tr>\n",
       "    <tr>\n",
       "      <th>3</th>\n",
       "      <td>590882</td>\n",
       "      <td>10</td>\n",
       "      <td>2</td>\n",
       "    </tr>\n",
       "    <tr>\n",
       "      <th>4</th>\n",
       "      <td>201944</td>\n",
       "      <td>30</td>\n",
       "      <td>3</td>\n",
       "    </tr>\n",
       "    <tr>\n",
       "      <th>5</th>\n",
       "      <td>333020</td>\n",
       "      <td>10</td>\n",
       "      <td>2</td>\n",
       "    </tr>\n",
       "    <tr>\n",
       "      <th>6</th>\n",
       "      <td>728451</td>\n",
       "      <td>25</td>\n",
       "      <td>3</td>\n",
       "    </tr>\n",
       "    <tr>\n",
       "      <th>7</th>\n",
       "      <td>475515</td>\n",
       "      <td>0</td>\n",
       "      <td>1</td>\n",
       "    </tr>\n",
       "    <tr>\n",
       "      <th>8</th>\n",
       "      <td>441126</td>\n",
       "      <td>15</td>\n",
       "      <td>2</td>\n",
       "    </tr>\n",
       "    <tr>\n",
       "      <th>9</th>\n",
       "      <td>989500</td>\n",
       "      <td>0</td>\n",
       "      <td>1</td>\n",
       "    </tr>\n",
       "  </tbody>\n",
       "</table>\n",
       "</div>"
      ],
      "text/plain": [
       "   building_id  age  damage_grade\n",
       "0       802906   30             3\n",
       "1        28830   10             2\n",
       "2        94947   10             3\n",
       "3       590882   10             2\n",
       "4       201944   30             3\n",
       "5       333020   10             2\n",
       "6       728451   25             3\n",
       "7       475515    0             1\n",
       "8       441126   15             2\n",
       "9       989500    0             1"
      ]
     },
     "execution_count": 5,
     "metadata": {},
     "output_type": "execute_result"
    }
   ],
   "source": [
    "#Hacemos el merge según building_id\n",
    "damage_age = building_age.merge(train_labels)\n",
    "damage_age.head(10)"
   ]
  },
  {
   "cell_type": "code",
   "execution_count": 6,
   "metadata": {},
   "outputs": [
    {
     "name": "stdout",
     "output_type": "stream",
     "text": [
      "<class 'pandas.core.frame.DataFrame'>\n",
      "Int64Index: 260601 entries, 0 to 260600\n",
      "Data columns (total 3 columns):\n",
      " #   Column        Non-Null Count   Dtype\n",
      "---  ------        --------------   -----\n",
      " 0   building_id   260601 non-null  int64\n",
      " 1   age           260601 non-null  int64\n",
      " 2   damage_grade  260601 non-null  int64\n",
      "dtypes: int64(3)\n",
      "memory usage: 8.0 MB\n"
     ]
    }
   ],
   "source": [
    "#Verificamos si hay NANs, pero no tiene.\n",
    "damage_age.info()"
   ]
  },
  {
   "cell_type": "code",
   "execution_count": 7,
   "metadata": {},
   "outputs": [],
   "source": [
    "damage_age_filtered = damage_age.loc[:,['age', 'damage_grade']]"
   ]
  },
  {
   "cell_type": "code",
   "execution_count": 8,
   "metadata": {},
   "outputs": [
    {
     "data": {
      "text/plain": [
       "age  damage_grade\n",
       "10   2               22370\n",
       "15   2               20767\n",
       "5    2               19030\n",
       "20   2               18603\n",
       "25   2               14073\n",
       "                     ...  \n",
       "150  1                   1\n",
       "135  1                   1\n",
       "115  1                   1\n",
       "140  3                   1\n",
       "110  1                   1\n",
       "Length: 107, dtype: int64"
      ]
     },
     "execution_count": 8,
     "metadata": {},
     "output_type": "execute_result"
    }
   ],
   "source": [
    "damage_age_filtered.value_counts()"
   ]
  },
  {
   "cell_type": "code",
   "execution_count": 9,
   "metadata": {},
   "outputs": [
    {
     "data": {
      "text/html": [
       "<div>\n",
       "<style scoped>\n",
       "    .dataframe tbody tr th:only-of-type {\n",
       "        vertical-align: middle;\n",
       "    }\n",
       "\n",
       "    .dataframe tbody tr th {\n",
       "        vertical-align: top;\n",
       "    }\n",
       "\n",
       "    .dataframe thead th {\n",
       "        text-align: right;\n",
       "    }\n",
       "</style>\n",
       "<table border=\"1\" class=\"dataframe\">\n",
       "  <thead>\n",
       "    <tr style=\"text-align: right;\">\n",
       "      <th></th>\n",
       "      <th>damage_grade</th>\n",
       "      <th>age_mean</th>\n",
       "    </tr>\n",
       "  </thead>\n",
       "  <tbody>\n",
       "    <tr>\n",
       "      <th>0</th>\n",
       "      <td>1</td>\n",
       "      <td>17.320490</td>\n",
       "    </tr>\n",
       "    <tr>\n",
       "      <th>1</th>\n",
       "      <td>2</td>\n",
       "      <td>27.342118</td>\n",
       "    </tr>\n",
       "    <tr>\n",
       "      <th>2</th>\n",
       "      <td>3</td>\n",
       "      <td>27.817423</td>\n",
       "    </tr>\n",
       "  </tbody>\n",
       "</table>\n",
       "</div>"
      ],
      "text/plain": [
       "   damage_grade   age_mean\n",
       "0             1  17.320490\n",
       "1             2  27.342118\n",
       "2             3  27.817423"
      ]
     },
     "execution_count": 9,
     "metadata": {},
     "output_type": "execute_result"
    }
   ],
   "source": [
    "#Experimentando...\n",
    "grouped_by_damage = damage_age_filtered.groupby(['damage_grade']).mean()\n",
    "grouped_by_damage = grouped_by_damage.reset_index()\n",
    "col_rename = {'age':'age_mean'}\n",
    "grouped_by_damage = grouped_by_damage.rename(columns = col_rename)\n",
    "grouped_by_damage.head(10)"
   ]
  },
  {
   "cell_type": "code",
   "execution_count": 10,
   "metadata": {},
   "outputs": [
    {
     "data": {
      "text/plain": [
       "Text(0, 0.5, 'Edad Promedio')"
      ]
     },
     "execution_count": 10,
     "metadata": {},
     "output_type": "execute_result"
    },
    {
     "data": {
      "image/png": "[encoded data removed]",
      "text/plain": [
       "<Figure size 1080x360 with 1 Axes>"
      ]
     },
     "metadata": {
      "needs_background": "light"
     },
     "output_type": "display_data"
    }
   ],
   "source": [
    "g = grouped_by_damage.set_index('damage_grade').plot(kind = 'bar', figsize = (15, 5), color = 'coral')\n",
    "g.set_title('Promedio de edad según el grado de daño', fontsize = 18)\n",
    "g.set_xlabel('Grado de daño', fontsize = 16)\n",
    "g.set_ylabel('Edad Promedio', fontsize = 16)"
   ]
  },
  {
   "cell_type": "code",
   "execution_count": 11,
   "metadata": {},
   "outputs": [
    {
     "data": {
      "text/html": [
       "<div>\n",
       "<style scoped>\n",
       "    .dataframe tbody tr th:only-of-type {\n",
       "        vertical-align: middle;\n",
       "    }\n",
       "\n",
       "    .dataframe tbody tr th {\n",
       "        vertical-align: top;\n",
       "    }\n",
       "\n",
       "    .dataframe thead th {\n",
       "        text-align: right;\n",
       "    }\n",
       "</style>\n",
       "<table border=\"1\" class=\"dataframe\">\n",
       "  <thead>\n",
       "    <tr style=\"text-align: right;\">\n",
       "      <th></th>\n",
       "      <th>age</th>\n",
       "      <th>damage_grade_mean</th>\n",
       "      <th>houses_count</th>\n",
       "    </tr>\n",
       "  </thead>\n",
       "  <tbody>\n",
       "    <tr>\n",
       "      <th>2</th>\n",
       "      <td>10</td>\n",
       "      <td>2.200689</td>\n",
       "      <td>38896</td>\n",
       "    </tr>\n",
       "    <tr>\n",
       "      <th>3</th>\n",
       "      <td>15</td>\n",
       "      <td>2.263455</td>\n",
       "      <td>36010</td>\n",
       "    </tr>\n",
       "    <tr>\n",
       "      <th>1</th>\n",
       "      <td>5</td>\n",
       "      <td>2.103481</td>\n",
       "      <td>33697</td>\n",
       "    </tr>\n",
       "    <tr>\n",
       "      <th>4</th>\n",
       "      <td>20</td>\n",
       "      <td>2.300510</td>\n",
       "      <td>32182</td>\n",
       "    </tr>\n",
       "    <tr>\n",
       "      <th>0</th>\n",
       "      <td>0</td>\n",
       "      <td>1.957529</td>\n",
       "      <td>26041</td>\n",
       "    </tr>\n",
       "    <tr>\n",
       "      <th>5</th>\n",
       "      <td>25</td>\n",
       "      <td>2.329599</td>\n",
       "      <td>24366</td>\n",
       "    </tr>\n",
       "    <tr>\n",
       "      <th>6</th>\n",
       "      <td>30</td>\n",
       "      <td>2.349678</td>\n",
       "      <td>18028</td>\n",
       "    </tr>\n",
       "    <tr>\n",
       "      <th>7</th>\n",
       "      <td>35</td>\n",
       "      <td>2.351074</td>\n",
       "      <td>10710</td>\n",
       "    </tr>\n",
       "    <tr>\n",
       "      <th>8</th>\n",
       "      <td>40</td>\n",
       "      <td>2.369827</td>\n",
       "      <td>10559</td>\n",
       "    </tr>\n",
       "    <tr>\n",
       "      <th>10</th>\n",
       "      <td>50</td>\n",
       "      <td>2.380460</td>\n",
       "      <td>7257</td>\n",
       "    </tr>\n",
       "  </tbody>\n",
       "</table>\n",
       "</div>"
      ],
      "text/plain": [
       "    age  damage_grade_mean  houses_count\n",
       "2    10           2.200689         38896\n",
       "3    15           2.263455         36010\n",
       "1     5           2.103481         33697\n",
       "4    20           2.300510         32182\n",
       "0     0           1.957529         26041\n",
       "5    25           2.329599         24366\n",
       "6    30           2.349678         18028\n",
       "7    35           2.351074         10710\n",
       "8    40           2.369827         10559\n",
       "10   50           2.380460          7257"
      ]
     },
     "execution_count": 11,
     "metadata": {},
     "output_type": "execute_result"
    }
   ],
   "source": [
    "grouped_by_age = damage_age_filtered.groupby(['age']).agg({'damage_grade':['mean','count']})\n",
    "level_0 = grouped_by_age.columns.get_level_values(0)\n",
    "level_1 = grouped_by_age.columns.get_level_values(1)\n",
    "grouped_by_age.columns = level_0 + '_' + level_1\n",
    "grouped_by_age.reset_index(inplace = True)\n",
    "col_rename = {'damage_grade_count':'houses_count'}\n",
    "grouped_by_age = grouped_by_age.rename(columns = col_rename)\n",
    "grouped_by_age.nlargest(10, 'houses_count')"
   ]
  },
  {
   "cell_type": "code",
   "execution_count": 12,
   "metadata": {},
   "outputs": [
    {
     "data": {
      "text/plain": [
       "Text(0, 0.5, 'Grado de daño promedio')"
      ]
     },
     "execution_count": 12,
     "metadata": {},
     "output_type": "execute_result"
    },
    {
     "data": {
      "image/png": "[encoded data removed]",
      "text/plain": [
       "<Figure size 1080x360 with 2 Axes>"
      ]
     },
     "metadata": {
      "needs_background": "light"
     },
     "output_type": "display_data"
    }
   ],
   "source": [
    "frequent_ages = grouped_by_age.set_index('age').nlargest(10, 'houses_count')\n",
    "new_col_order = ['houses_count', 'damage_grade_mean']\n",
    "frequent_ages = frequent_ages[new_col_order]\n",
    "g = frequent_ages.plot(kind = 'bar', figsize = (15, 5), secondary_y = 'damage_grade_mean', legend = False)\n",
    "g.set_title('Promedio de daño según la antigüedad', fontsize = 18)\n",
    "g.set_xlabel('Antigüedad', fontsize = 16)\n",
    "g.set_ylabel('Cantidad de casas', fontsize = 16)\n",
    "g.right_ax.set_ylabel('Grado de daño promedio', fontsize = 16)"
   ]
  },
  {
   "cell_type": "code",
   "execution_count": 13,
   "metadata": {},
   "outputs": [
    {
     "data": {
      "text/plain": [
       "Text(0, 0.5, 'Grado de daño promedio')"
      ]
     },
     "execution_count": 13,
     "metadata": {},
     "output_type": "execute_result"
    },
    {
     "data": {
      "image/png": "[encoded data removed]",
      "text/plain": [
       "<Figure size 1080x360 with 2 Axes>"
      ]
     },
     "metadata": {
      "needs_background": "light"
     },
     "output_type": "display_data"
    }
   ],
   "source": [
    "#Como sugerencia de Alexis, probamos ordenar el eje x por los años de menor a mayor.\n",
    "frequent_ages = grouped_by_age.set_index('age').head(10)\n",
    "new_col_order = ['houses_count', 'damage_grade_mean']\n",
    "frequent_ages = frequent_ages[new_col_order]\n",
    "g = frequent_ages.plot(kind = 'bar', figsize = (15, 5), secondary_y = 'damage_grade_mean', legend = False)\n",
    "g.set_title('Promedio de daño según la antigüedad', fontsize = 18)\n",
    "g.set_xlabel('Antigüedad', fontsize = 16)\n",
    "g.set_ylabel('Cantidad de casas', fontsize = 16)\n",
    "g.right_ax.set_ylabel('Grado de daño promedio', fontsize = 16)"
   ]
  },
  {
   "cell_type": "code",
   "execution_count": 14,
   "metadata": {},
   "outputs": [
    {
     "data": {
      "text/html": [
       "<div>\n",
       "<style scoped>\n",
       "    .dataframe tbody tr th:only-of-type {\n",
       "        vertical-align: middle;\n",
       "    }\n",
       "\n",
       "    .dataframe tbody tr th {\n",
       "        vertical-align: top;\n",
       "    }\n",
       "\n",
       "    .dataframe thead th {\n",
       "        text-align: right;\n",
       "    }\n",
       "</style>\n",
       "<table border=\"1\" class=\"dataframe\">\n",
       "  <thead>\n",
       "    <tr style=\"text-align: right;\">\n",
       "      <th></th>\n",
       "      <th>age</th>\n",
       "      <th>building_id</th>\n",
       "      <th>area_percentage</th>\n",
       "      <th>height_percentage</th>\n",
       "    </tr>\n",
       "  </thead>\n",
       "  <tbody>\n",
       "    <tr>\n",
       "      <th>0</th>\n",
       "      <td>30</td>\n",
       "      <td>802906</td>\n",
       "      <td>6</td>\n",
       "      <td>5</td>\n",
       "    </tr>\n",
       "    <tr>\n",
       "      <th>1</th>\n",
       "      <td>10</td>\n",
       "      <td>28830</td>\n",
       "      <td>8</td>\n",
       "      <td>7</td>\n",
       "    </tr>\n",
       "    <tr>\n",
       "      <th>2</th>\n",
       "      <td>10</td>\n",
       "      <td>94947</td>\n",
       "      <td>5</td>\n",
       "      <td>5</td>\n",
       "    </tr>\n",
       "    <tr>\n",
       "      <th>3</th>\n",
       "      <td>10</td>\n",
       "      <td>590882</td>\n",
       "      <td>6</td>\n",
       "      <td>5</td>\n",
       "    </tr>\n",
       "    <tr>\n",
       "      <th>4</th>\n",
       "      <td>30</td>\n",
       "      <td>201944</td>\n",
       "      <td>8</td>\n",
       "      <td>9</td>\n",
       "    </tr>\n",
       "    <tr>\n",
       "      <th>5</th>\n",
       "      <td>10</td>\n",
       "      <td>333020</td>\n",
       "      <td>9</td>\n",
       "      <td>5</td>\n",
       "    </tr>\n",
       "    <tr>\n",
       "      <th>6</th>\n",
       "      <td>25</td>\n",
       "      <td>728451</td>\n",
       "      <td>3</td>\n",
       "      <td>4</td>\n",
       "    </tr>\n",
       "    <tr>\n",
       "      <th>7</th>\n",
       "      <td>0</td>\n",
       "      <td>475515</td>\n",
       "      <td>8</td>\n",
       "      <td>6</td>\n",
       "    </tr>\n",
       "    <tr>\n",
       "      <th>8</th>\n",
       "      <td>15</td>\n",
       "      <td>441126</td>\n",
       "      <td>8</td>\n",
       "      <td>6</td>\n",
       "    </tr>\n",
       "    <tr>\n",
       "      <th>9</th>\n",
       "      <td>0</td>\n",
       "      <td>989500</td>\n",
       "      <td>13</td>\n",
       "      <td>4</td>\n",
       "    </tr>\n",
       "  </tbody>\n",
       "</table>\n",
       "</div>"
      ],
      "text/plain": [
       "   age  building_id  area_percentage  height_percentage\n",
       "0   30       802906                6                  5\n",
       "1   10        28830                8                  7\n",
       "2   10        94947                5                  5\n",
       "3   10       590882                6                  5\n",
       "4   30       201944                8                  9\n",
       "5   10       333020                9                  5\n",
       "6   25       728451                3                  4\n",
       "7    0       475515                8                  6\n",
       "8   15       441126                8                  6\n",
       "9    0       989500               13                  4"
      ]
     },
     "execution_count": 14,
     "metadata": {},
     "output_type": "execute_result"
    }
   ],
   "source": [
    "#Para el segundo análisis, queremos ver la relación entre altura y área del edificio y el daño recibido.\n",
    "#Filtramos las columnas importantes.\n",
    "#Como sugerencia de Alexis, hacemos una comparación entre la edad y el área con el daño, así como también\n",
    "#la edad y altura con el daño.\n",
    "building_age = train_values.loc[:,['age', 'building_id' , 'area_percentage', 'height_percentage']]\n",
    "building_age.head(10)"
   ]
  },
  {
   "cell_type": "code",
   "execution_count": 15,
   "metadata": {},
   "outputs": [
    {
     "data": {
      "text/html": [
       "<div>\n",
       "<style scoped>\n",
       "    .dataframe tbody tr th:only-of-type {\n",
       "        vertical-align: middle;\n",
       "    }\n",
       "\n",
       "    .dataframe tbody tr th {\n",
       "        vertical-align: top;\n",
       "    }\n",
       "\n",
       "    .dataframe thead th {\n",
       "        text-align: right;\n",
       "    }\n",
       "</style>\n",
       "<table border=\"1\" class=\"dataframe\">\n",
       "  <thead>\n",
       "    <tr style=\"text-align: right;\">\n",
       "      <th></th>\n",
       "      <th>age</th>\n",
       "      <th>building_id</th>\n",
       "      <th>area_percentage</th>\n",
       "      <th>height_percentage</th>\n",
       "      <th>damage_grade</th>\n",
       "    </tr>\n",
       "  </thead>\n",
       "  <tbody>\n",
       "    <tr>\n",
       "      <th>0</th>\n",
       "      <td>30</td>\n",
       "      <td>802906</td>\n",
       "      <td>6</td>\n",
       "      <td>5</td>\n",
       "      <td>3</td>\n",
       "    </tr>\n",
       "    <tr>\n",
       "      <th>1</th>\n",
       "      <td>10</td>\n",
       "      <td>28830</td>\n",
       "      <td>8</td>\n",
       "      <td>7</td>\n",
       "      <td>2</td>\n",
       "    </tr>\n",
       "    <tr>\n",
       "      <th>2</th>\n",
       "      <td>10</td>\n",
       "      <td>94947</td>\n",
       "      <td>5</td>\n",
       "      <td>5</td>\n",
       "      <td>3</td>\n",
       "    </tr>\n",
       "    <tr>\n",
       "      <th>3</th>\n",
       "      <td>10</td>\n",
       "      <td>590882</td>\n",
       "      <td>6</td>\n",
       "      <td>5</td>\n",
       "      <td>2</td>\n",
       "    </tr>\n",
       "    <tr>\n",
       "      <th>4</th>\n",
       "      <td>30</td>\n",
       "      <td>201944</td>\n",
       "      <td>8</td>\n",
       "      <td>9</td>\n",
       "      <td>3</td>\n",
       "    </tr>\n",
       "    <tr>\n",
       "      <th>5</th>\n",
       "      <td>10</td>\n",
       "      <td>333020</td>\n",
       "      <td>9</td>\n",
       "      <td>5</td>\n",
       "      <td>2</td>\n",
       "    </tr>\n",
       "    <tr>\n",
       "      <th>6</th>\n",
       "      <td>25</td>\n",
       "      <td>728451</td>\n",
       "      <td>3</td>\n",
       "      <td>4</td>\n",
       "      <td>3</td>\n",
       "    </tr>\n",
       "    <tr>\n",
       "      <th>7</th>\n",
       "      <td>0</td>\n",
       "      <td>475515</td>\n",
       "      <td>8</td>\n",
       "      <td>6</td>\n",
       "      <td>1</td>\n",
       "    </tr>\n",
       "    <tr>\n",
       "      <th>8</th>\n",
       "      <td>15</td>\n",
       "      <td>441126</td>\n",
       "      <td>8</td>\n",
       "      <td>6</td>\n",
       "      <td>2</td>\n",
       "    </tr>\n",
       "    <tr>\n",
       "      <th>9</th>\n",
       "      <td>0</td>\n",
       "      <td>989500</td>\n",
       "      <td>13</td>\n",
       "      <td>4</td>\n",
       "      <td>1</td>\n",
       "    </tr>\n",
       "  </tbody>\n",
       "</table>\n",
       "</div>"
      ],
      "text/plain": [
       "   age  building_id  area_percentage  height_percentage  damage_grade\n",
       "0   30       802906                6                  5             3\n",
       "1   10        28830                8                  7             2\n",
       "2   10        94947                5                  5             3\n",
       "3   10       590882                6                  5             2\n",
       "4   30       201944                8                  9             3\n",
       "5   10       333020                9                  5             2\n",
       "6   25       728451                3                  4             3\n",
       "7    0       475515                8                  6             1\n",
       "8   15       441126                8                  6             2\n",
       "9    0       989500               13                  4             1"
      ]
     },
     "execution_count": 15,
     "metadata": {},
     "output_type": "execute_result"
    }
   ],
   "source": [
    "#Hacemos el merge según building_id\n",
    "damage_area_height = building_age.merge(train_labels)\n",
    "damage_area_height.head(10)"
   ]
  },
  {
   "cell_type": "code",
   "execution_count": 16,
   "metadata": {},
   "outputs": [
    {
     "data": {
      "text/html": [
       "<div>\n",
       "<style scoped>\n",
       "    .dataframe tbody tr th:only-of-type {\n",
       "        vertical-align: middle;\n",
       "    }\n",
       "\n",
       "    .dataframe tbody tr th {\n",
       "        vertical-align: top;\n",
       "    }\n",
       "\n",
       "    .dataframe thead th {\n",
       "        text-align: right;\n",
       "    }\n",
       "</style>\n",
       "<table border=\"1\" class=\"dataframe\">\n",
       "  <thead>\n",
       "    <tr style=\"text-align: right;\">\n",
       "      <th></th>\n",
       "      <th>age</th>\n",
       "      <th>area_percentage_mean</th>\n",
       "      <th>height_percentage_mean</th>\n",
       "      <th>damage_grade_mean</th>\n",
       "    </tr>\n",
       "  </thead>\n",
       "  <tbody>\n",
       "    <tr>\n",
       "      <th>0</th>\n",
       "      <td>0</td>\n",
       "      <td>8.579432</td>\n",
       "      <td>4.927384</td>\n",
       "      <td>1.957529</td>\n",
       "    </tr>\n",
       "    <tr>\n",
       "      <th>1</th>\n",
       "      <td>5</td>\n",
       "      <td>8.256284</td>\n",
       "      <td>5.083390</td>\n",
       "      <td>2.103481</td>\n",
       "    </tr>\n",
       "    <tr>\n",
       "      <th>2</th>\n",
       "      <td>10</td>\n",
       "      <td>7.905646</td>\n",
       "      <td>5.217555</td>\n",
       "      <td>2.200689</td>\n",
       "    </tr>\n",
       "    <tr>\n",
       "      <th>3</th>\n",
       "      <td>15</td>\n",
       "      <td>7.858178</td>\n",
       "      <td>5.329936</td>\n",
       "      <td>2.263455</td>\n",
       "    </tr>\n",
       "    <tr>\n",
       "      <th>4</th>\n",
       "      <td>20</td>\n",
       "      <td>7.933565</td>\n",
       "      <td>5.462028</td>\n",
       "      <td>2.300510</td>\n",
       "    </tr>\n",
       "    <tr>\n",
       "      <th>5</th>\n",
       "      <td>25</td>\n",
       "      <td>7.836165</td>\n",
       "      <td>5.532545</td>\n",
       "      <td>2.329599</td>\n",
       "    </tr>\n",
       "    <tr>\n",
       "      <th>6</th>\n",
       "      <td>30</td>\n",
       "      <td>8.020746</td>\n",
       "      <td>5.683992</td>\n",
       "      <td>2.349678</td>\n",
       "    </tr>\n",
       "    <tr>\n",
       "      <th>7</th>\n",
       "      <td>35</td>\n",
       "      <td>8.015966</td>\n",
       "      <td>5.713445</td>\n",
       "      <td>2.351074</td>\n",
       "    </tr>\n",
       "    <tr>\n",
       "      <th>8</th>\n",
       "      <td>40</td>\n",
       "      <td>8.037598</td>\n",
       "      <td>5.803201</td>\n",
       "      <td>2.369827</td>\n",
       "    </tr>\n",
       "    <tr>\n",
       "      <th>9</th>\n",
       "      <td>45</td>\n",
       "      <td>7.934197</td>\n",
       "      <td>5.771598</td>\n",
       "      <td>2.354277</td>\n",
       "    </tr>\n",
       "  </tbody>\n",
       "</table>\n",
       "</div>"
      ],
      "text/plain": [
       "   age  area_percentage_mean  height_percentage_mean  damage_grade_mean\n",
       "0    0              8.579432                4.927384           1.957529\n",
       "1    5              8.256284                5.083390           2.103481\n",
       "2   10              7.905646                5.217555           2.200689\n",
       "3   15              7.858178                5.329936           2.263455\n",
       "4   20              7.933565                5.462028           2.300510\n",
       "5   25              7.836165                5.532545           2.329599\n",
       "6   30              8.020746                5.683992           2.349678\n",
       "7   35              8.015966                5.713445           2.351074\n",
       "8   40              8.037598                5.803201           2.369827\n",
       "9   45              7.934197                5.771598           2.354277"
      ]
     },
     "execution_count": 16,
     "metadata": {},
     "output_type": "execute_result"
    }
   ],
   "source": [
    "damage_area_height_filtered = damage_area_height.loc[:,['age', 'area_percentage', 'height_percentage', 'damage_grade']]\n",
    "grouped_by_age = damage_area_height_filtered.groupby(['age']).mean()\n",
    "grouped_by_age = grouped_by_age.reset_index()\n",
    "col_rename = {'area_percentage':'area_percentage_mean', 'height_percentage':'height_percentage_mean', 'damage_grade': 'damage_grade_mean'}\n",
    "grouped_by_age = grouped_by_age.rename(columns = col_rename)\n",
    "grouped_by_age.head(10)"
   ]
  },
  {
   "cell_type": "code",
   "execution_count": 17,
   "metadata": {},
   "outputs": [
    {
     "data": {
      "text/plain": [
       "Text(0, 0.5, 'Grado de daño promedio')"
      ]
     },
     "execution_count": 17,
     "metadata": {},
     "output_type": "execute_result"
    },
    {
     "data": {
      "image/png": "[encoded data removed]",
      "text/plain": [
       "<Figure size 1080x360 with 2 Axes>"
      ]
     },
     "metadata": {
      "needs_background": "light"
     },
     "output_type": "display_data"
    }
   ],
   "source": [
    "g = grouped_by_age.set_index('age').loc[:,['area_percentage_mean','damage_grade_mean']].head(10).plot(kind = 'bar', figsize = (15, 5), secondary_y = 'damage_grade_mean', legend = False)\n",
    "g.set_title('Promedio de Área y daño promedio según la antigüedad', fontsize = 18)\n",
    "g.set_xlabel('Antigüedad', fontsize = 16)\n",
    "g.set_ylabel('Área promedio', fontsize = 16)\n",
    "g.right_ax.set_ylabel('Grado de daño promedio', fontsize = 16)"
   ]
  },
  {
   "cell_type": "code",
   "execution_count": 18,
   "metadata": {
    "scrolled": false
   },
   "outputs": [
    {
     "data": {
      "text/plain": [
       "Text(0, 0.5, 'Grado de daño promedio')"
      ]
     },
     "execution_count": 18,
     "metadata": {},
     "output_type": "execute_result"
    },
    {
     "data": {
      "image/png": "[encoded data removed]",
      "text/plain": [
       "<Figure size 1080x360 with 2 Axes>"
      ]
     },
     "metadata": {
      "needs_background": "light"
     },
     "output_type": "display_data"
    }
   ],
   "source": [
    "g = grouped_by_age.set_index('age').loc[:,['height_percentage_mean','damage_grade_mean']].head(10).plot(kind = 'bar', figsize = (15, 5), secondary_y = 'damage_grade_mean', legend = False)\n",
    "g.set_title('Promedio de altura y daño promedio según la antigüedad', fontsize = 18)\n",
    "g.set_xlabel('Antigüedad', fontsize = 16)\n",
    "g.set_ylabel('Altura promedio', fontsize = 16)\n",
    "g.right_ax.set_ylabel('Grado de daño promedio', fontsize = 16)"
   ]
  },
  {
   "cell_type": "code",
   "execution_count": 144,
   "metadata": {
    "scrolled": false
   },
   "outputs": [
    {
     "data": {
      "text/html": [
       "<div>\n",
       "<style scoped>\n",
       "    .dataframe tbody tr th:only-of-type {\n",
       "        vertical-align: middle;\n",
       "    }\n",
       "\n",
       "    .dataframe tbody tr th {\n",
       "        vertical-align: top;\n",
       "    }\n",
       "\n",
       "    .dataframe thead th {\n",
       "        text-align: right;\n",
       "    }\n",
       "</style>\n",
       "<table border=\"1\" class=\"dataframe\">\n",
       "  <thead>\n",
       "    <tr style=\"text-align: right;\">\n",
       "      <th></th>\n",
       "      <th>building_id</th>\n",
       "      <th>age</th>\n",
       "      <th>damage_grade</th>\n",
       "    </tr>\n",
       "  </thead>\n",
       "  <tbody>\n",
       "    <tr>\n",
       "      <th>0</th>\n",
       "      <td>802906</td>\n",
       "      <td>30</td>\n",
       "      <td>3</td>\n",
       "    </tr>\n",
       "    <tr>\n",
       "      <th>4</th>\n",
       "      <td>201944</td>\n",
       "      <td>30</td>\n",
       "      <td>3</td>\n",
       "    </tr>\n",
       "    <tr>\n",
       "      <th>17</th>\n",
       "      <td>980230</td>\n",
       "      <td>10</td>\n",
       "      <td>3</td>\n",
       "    </tr>\n",
       "    <tr>\n",
       "      <th>20</th>\n",
       "      <td>793397</td>\n",
       "      <td>40</td>\n",
       "      <td>2</td>\n",
       "    </tr>\n",
       "    <tr>\n",
       "      <th>29</th>\n",
       "      <td>529366</td>\n",
       "      <td>60</td>\n",
       "      <td>3</td>\n",
       "    </tr>\n",
       "    <tr>\n",
       "      <th>41</th>\n",
       "      <td>677028</td>\n",
       "      <td>30</td>\n",
       "      <td>2</td>\n",
       "    </tr>\n",
       "    <tr>\n",
       "      <th>58</th>\n",
       "      <td>624119</td>\n",
       "      <td>25</td>\n",
       "      <td>3</td>\n",
       "    </tr>\n",
       "    <tr>\n",
       "      <th>85</th>\n",
       "      <td>67684</td>\n",
       "      <td>50</td>\n",
       "      <td>3</td>\n",
       "    </tr>\n",
       "    <tr>\n",
       "      <th>105</th>\n",
       "      <td>820425</td>\n",
       "      <td>30</td>\n",
       "      <td>2</td>\n",
       "    </tr>\n",
       "    <tr>\n",
       "      <th>116</th>\n",
       "      <td>170270</td>\n",
       "      <td>40</td>\n",
       "      <td>3</td>\n",
       "    </tr>\n",
       "  </tbody>\n",
       "</table>\n",
       "</div>"
      ],
      "text/plain": [
       "     building_id  age  damage_grade\n",
       "0         802906   30             3\n",
       "4         201944   30             3\n",
       "17        980230   10             3\n",
       "20        793397   40             2\n",
       "29        529366   60             3\n",
       "41        677028   30             2\n",
       "58        624119   25             3\n",
       "85         67684   50             3\n",
       "105       820425   30             2\n",
       "116       170270   40             3"
      ]
     },
     "execution_count": 144,
     "metadata": {},
     "output_type": "execute_result"
    }
   ],
   "source": [
    "#Analizamos la relación entre antigüedad, daño recibido y el material usado, ya que queremos saber si el material\n",
    "#que se usa influye en cuánto persiste el edificio. Haremos el loc para quedarnos con las columnas de ID y age,\n",
    "#Y luego vamos a filtrar las que fueron construidas con adobe/barro.\n",
    "material_adobe = train_values['has_superstructure_adobe_mud'] == 1\n",
    "adobe_persistance = damage_age[material_adobe]\n",
    "adobe_persistance.head(10)"
   ]
  },
  {
   "cell_type": "code",
   "execution_count": 145,
   "metadata": {},
   "outputs": [
    {
     "data": {
      "text/html": [
       "<div>\n",
       "<style scoped>\n",
       "    .dataframe tbody tr th:only-of-type {\n",
       "        vertical-align: middle;\n",
       "    }\n",
       "\n",
       "    .dataframe tbody tr th {\n",
       "        vertical-align: top;\n",
       "    }\n",
       "\n",
       "    .dataframe thead th {\n",
       "        text-align: right;\n",
       "    }\n",
       "</style>\n",
       "<table border=\"1\" class=\"dataframe\">\n",
       "  <thead>\n",
       "    <tr style=\"text-align: right;\">\n",
       "      <th></th>\n",
       "      <th>age</th>\n",
       "      <th>houses_count</th>\n",
       "      <th>damage_grade_mean</th>\n",
       "    </tr>\n",
       "  </thead>\n",
       "  <tbody>\n",
       "    <tr>\n",
       "      <th>0</th>\n",
       "      <td>0</td>\n",
       "      <td>702</td>\n",
       "      <td>2.129630</td>\n",
       "    </tr>\n",
       "    <tr>\n",
       "      <th>1</th>\n",
       "      <td>5</td>\n",
       "      <td>1317</td>\n",
       "      <td>2.214123</td>\n",
       "    </tr>\n",
       "    <tr>\n",
       "      <th>2</th>\n",
       "      <td>10</td>\n",
       "      <td>1997</td>\n",
       "      <td>2.291437</td>\n",
       "    </tr>\n",
       "    <tr>\n",
       "      <th>3</th>\n",
       "      <td>15</td>\n",
       "      <td>2121</td>\n",
       "      <td>2.298444</td>\n",
       "    </tr>\n",
       "    <tr>\n",
       "      <th>4</th>\n",
       "      <td>20</td>\n",
       "      <td>2677</td>\n",
       "      <td>2.331341</td>\n",
       "    </tr>\n",
       "    <tr>\n",
       "      <th>5</th>\n",
       "      <td>25</td>\n",
       "      <td>2575</td>\n",
       "      <td>2.356505</td>\n",
       "    </tr>\n",
       "    <tr>\n",
       "      <th>6</th>\n",
       "      <td>30</td>\n",
       "      <td>2221</td>\n",
       "      <td>2.390365</td>\n",
       "    </tr>\n",
       "    <tr>\n",
       "      <th>7</th>\n",
       "      <td>35</td>\n",
       "      <td>1557</td>\n",
       "      <td>2.392421</td>\n",
       "    </tr>\n",
       "    <tr>\n",
       "      <th>8</th>\n",
       "      <td>40</td>\n",
       "      <td>1659</td>\n",
       "      <td>2.421941</td>\n",
       "    </tr>\n",
       "    <tr>\n",
       "      <th>9</th>\n",
       "      <td>45</td>\n",
       "      <td>736</td>\n",
       "      <td>2.415761</td>\n",
       "    </tr>\n",
       "  </tbody>\n",
       "</table>\n",
       "</div>"
      ],
      "text/plain": [
       "   age  houses_count  damage_grade_mean\n",
       "0    0           702           2.129630\n",
       "1    5          1317           2.214123\n",
       "2   10          1997           2.291437\n",
       "3   15          2121           2.298444\n",
       "4   20          2677           2.331341\n",
       "5   25          2575           2.356505\n",
       "6   30          2221           2.390365\n",
       "7   35          1557           2.392421\n",
       "8   40          1659           2.421941\n",
       "9   45           736           2.415761"
      ]
     },
     "execution_count": 145,
     "metadata": {},
     "output_type": "execute_result"
    }
   ],
   "source": [
    "grouped_by_age = adobe_persistance.groupby(['age']).agg({'damage_grade':['mean','count']})\n",
    "level_0 = grouped_by_age.columns.get_level_values(0)\n",
    "level_1 = grouped_by_age.columns.get_level_values(1)\n",
    "grouped_by_age.columns = level_0 + '_' + level_1\n",
    "grouped_by_age.reset_index(inplace = True)\n",
    "col_rename = {'damage_grade_count':'houses_count'}\n",
    "grouped_by_age = grouped_by_age.rename(columns = col_rename)\n",
    "new_col_order = ['age', 'houses_count', 'damage_grade_mean']\n",
    "grouped_by_age = grouped_by_age[new_col_order]\n",
    "grouped_by_age.head(10)"
   ]
  },
  {
   "cell_type": "code",
   "execution_count": 146,
   "metadata": {
    "scrolled": true
   },
   "outputs": [
    {
     "data": {
      "text/plain": [
       "(1.0, 2.6)"
      ]
     },
     "execution_count": 146,
     "metadata": {},
     "output_type": "execute_result"
    },
    {
     "data": {
      "image/png": "[encoded data removed]",
      "text/plain": [
       "<Figure size 1080x360 with 2 Axes>"
      ]
     },
     "metadata": {
      "needs_background": "light"
     },
     "output_type": "display_data"
    }
   ],
   "source": [
    "g = grouped_by_age.set_index('age').head(10).plot(kind = 'bar', figsize = (15, 5), secondary_y = 'damage_grade_mean', legend = False)\n",
    "g.set_title('Promedio de daño según la antigüedad de casas hechas a base de Adobe/Barro', fontsize = 18)\n",
    "g.set_xlabel('Antigüedad', fontsize = 16)\n",
    "g.set_ylabel('Cantidad de casas', fontsize = 16)\n",
    "g.right_ax.set_ylabel('Grado de daño promedio', fontsize = 16)\n",
    "g.right_ax.set_ylim(1,2.6)"
   ]
  },
  {
   "cell_type": "code",
   "execution_count": 147,
   "metadata": {
    "scrolled": false
   },
   "outputs": [],
   "source": [
    "material_mortar = train_values['has_superstructure_mud_mortar_stone'] == 1\n",
    "mortar_persistance = damage_age[material_mortar]"
   ]
  },
  {
   "cell_type": "code",
   "execution_count": 148,
   "metadata": {},
   "outputs": [],
   "source": [
    "grouped_by_age = mortar_persistance.groupby(['age']).agg({'damage_grade':['mean','count']})\n",
    "level_0 = grouped_by_age.columns.get_level_values(0)\n",
    "level_1 = grouped_by_age.columns.get_level_values(1)\n",
    "grouped_by_age.columns = level_0 + '_' + level_1\n",
    "grouped_by_age.reset_index(inplace = True)\n",
    "col_rename = {'damage_grade_count':'houses_count'}\n",
    "grouped_by_age = grouped_by_age.rename(columns = col_rename)\n",
    "new_col_order = ['age', 'houses_count', 'damage_grade_mean']\n",
    "grouped_by_age = grouped_by_age[new_col_order]"
   ]
  },
  {
   "cell_type": "code",
   "execution_count": 149,
   "metadata": {
    "scrolled": false
   },
   "outputs": [
    {
     "data": {
      "text/plain": [
       "(1.0, 2.6)"
      ]
     },
     "execution_count": 149,
     "metadata": {},
     "output_type": "execute_result"
    },
    {
     "data": {
      "image/png": "[encoded data removed]",
      "text/plain": [
       "<Figure size 1080x360 with 2 Axes>"
      ]
     },
     "metadata": {
      "needs_background": "light"
     },
     "output_type": "display_data"
    }
   ],
   "source": [
    "g = grouped_by_age.set_index('age').head(10).plot(kind = 'bar', figsize = (15, 5), secondary_y = 'damage_grade_mean', legend = False)\n",
    "g.set_title('Promedio de daño según la antigüedad de casas hechas a base de Barro-Piedra', fontsize = 18)\n",
    "g.set_xlabel('Antigüedad', fontsize = 16)\n",
    "g.set_ylabel('Cantidad de casas', fontsize = 16)\n",
    "g.right_ax.set_ylabel('Grado de daño promedio', fontsize = 16)\n",
    "g.right_ax.set_ylim(1,2.6)"
   ]
  },
  {
   "cell_type": "code",
   "execution_count": 150,
   "metadata": {
    "scrolled": false
   },
   "outputs": [],
   "source": [
    "material_stone = train_values['has_superstructure_stone_flag'] == 1\n",
    "stone_persistance = damage_age[material_stone]"
   ]
  },
  {
   "cell_type": "code",
   "execution_count": 151,
   "metadata": {},
   "outputs": [],
   "source": [
    "grouped_by_age = stone_persistance.groupby(['age']).agg({'damage_grade':['mean','count']})\n",
    "level_0 = grouped_by_age.columns.get_level_values(0)\n",
    "level_1 = grouped_by_age.columns.get_level_values(1)\n",
    "grouped_by_age.columns = level_0 + '_' + level_1\n",
    "grouped_by_age.reset_index(inplace = True)\n",
    "col_rename = {'damage_grade_count':'houses_count'}\n",
    "grouped_by_age = grouped_by_age.rename(columns = col_rename)\n",
    "new_col_order = ['age', 'houses_count', 'damage_grade_mean']\n",
    "grouped_by_age = grouped_by_age[new_col_order]"
   ]
  },
  {
   "cell_type": "code",
   "execution_count": 152,
   "metadata": {
    "scrolled": true
   },
   "outputs": [
    {
     "data": {
      "text/plain": [
       "(1.0, 2.6)"
      ]
     },
     "execution_count": 152,
     "metadata": {},
     "output_type": "execute_result"
    },
    {
     "data": {
      "image/png": "[encoded data removed]",
      "text/plain": [
       "<Figure size 1080x360 with 2 Axes>"
      ]
     },
     "metadata": {
      "needs_background": "light"
     },
     "output_type": "display_data"
    }
   ],
   "source": [
    "g = grouped_by_age.set_index('age').head(10).plot(kind = 'bar', figsize = (15, 5), secondary_y = 'damage_grade_mean', legend = False)\n",
    "g.set_title('Promedio de daño según la antigüedad de casas hechas a base de Piedra', fontsize = 18)\n",
    "g.set_xlabel('Antigüedad', fontsize = 16)\n",
    "g.set_ylabel('Cantidad de casas', fontsize = 16)\n",
    "g.right_ax.set_ylabel('Grado de daño promedio', fontsize = 16)\n",
    "g.right_ax.set_ylim(1,2.6)"
   ]
  },
  {
   "cell_type": "code",
   "execution_count": 155,
   "metadata": {
    "scrolled": false
   },
   "outputs": [],
   "source": [
    "material_cement_mortar = train_values['has_superstructure_cement_mortar_stone'] == 1\n",
    "cement_mortar_persistance = damage_age[material_cement_mortar]"
   ]
  },
  {
   "cell_type": "code",
   "execution_count": 156,
   "metadata": {},
   "outputs": [],
   "source": [
    "grouped_by_age = cement_mortar_persistance.groupby(['age']).agg({'damage_grade':['mean','count']})\n",
    "level_0 = grouped_by_age.columns.get_level_values(0)\n",
    "level_1 = grouped_by_age.columns.get_level_values(1)\n",
    "grouped_by_age.columns = level_0 + '_' + level_1\n",
    "grouped_by_age.reset_index(inplace = True)\n",
    "col_rename = {'damage_grade_count':'houses_count'}\n",
    "grouped_by_age = grouped_by_age.rename(columns = col_rename)\n",
    "new_col_order = ['age', 'houses_count', 'damage_grade_mean']\n",
    "grouped_by_age = grouped_by_age[new_col_order]"
   ]
  },
  {
   "cell_type": "code",
   "execution_count": 157,
   "metadata": {
    "scrolled": true
   },
   "outputs": [
    {
     "data": {
      "text/plain": [
       "(1.0, 2.6)"
      ]
     },
     "execution_count": 157,
     "metadata": {},
     "output_type": "execute_result"
    },
    {
     "data": {
      "image/png": "[encoded data removed]",
      "text/plain": [
       "<Figure size 1080x360 with 2 Axes>"
      ]
     },
     "metadata": {
      "needs_background": "light"
     },
     "output_type": "display_data"
    }
   ],
   "source": [
    "g = grouped_by_age.set_index('age').head(10).plot(kind = 'bar', figsize = (15, 5), secondary_y = 'damage_grade_mean', legend = False)\n",
    "g.set_title('Promedio de daño según la antigüedad de casas hechas a base de Cemento-Piedra', fontsize = 18)\n",
    "g.set_xlabel('Antigüedad', fontsize = 16)\n",
    "g.set_ylabel('Cantidad de casas', fontsize = 16)\n",
    "g.right_ax.set_ylabel('Grado de daño promedio', fontsize = 16)\n",
    "g.right_ax.set_ylim(1,2.6)"
   ]
  },
  {
   "cell_type": "code",
   "execution_count": 158,
   "metadata": {
    "scrolled": false
   },
   "outputs": [],
   "source": [
    "material_mud_brick = train_values['has_superstructure_mud_mortar_brick'] == 1\n",
    "mud_brick_persistance = damage_age[material_mud_brick]"
   ]
  },
  {
   "cell_type": "code",
   "execution_count": 159,
   "metadata": {},
   "outputs": [],
   "source": [
    "grouped_by_age = mud_brick_persistance.groupby(['age']).agg({'damage_grade':['mean','count']})\n",
    "level_0 = grouped_by_age.columns.get_level_values(0)\n",
    "level_1 = grouped_by_age.columns.get_level_values(1)\n",
    "grouped_by_age.columns = level_0 + '_' + level_1\n",
    "grouped_by_age.reset_index(inplace = True)\n",
    "col_rename = {'damage_grade_count':'houses_count'}\n",
    "grouped_by_age = grouped_by_age.rename(columns = col_rename)\n",
    "new_col_order = ['age', 'houses_count', 'damage_grade_mean']\n",
    "grouped_by_age = grouped_by_age[new_col_order]"
   ]
  },
  {
   "cell_type": "code",
   "execution_count": 160,
   "metadata": {
    "scrolled": true
   },
   "outputs": [
    {
     "data": {
      "text/plain": [
       "(1.0, 2.6)"
      ]
     },
     "execution_count": 160,
     "metadata": {},
     "output_type": "execute_result"
    },
    {
     "data": {
      "image/png": "[encoded data removed]",
      "text/plain": [
       "<Figure size 1080x360 with 2 Axes>"
      ]
     },
     "metadata": {
      "needs_background": "light"
     },
     "output_type": "display_data"
    }
   ],
   "source": [
    "g = grouped_by_age.set_index('age').head(10).plot(kind = 'bar', figsize = (15, 5), secondary_y = 'damage_grade_mean', legend = False)\n",
    "g.set_title('Promedio de daño según la antigüedad de casas hechas a base de Barro-Ladrillo', fontsize = 18)\n",
    "g.set_xlabel('Antigüedad', fontsize = 16)\n",
    "g.set_ylabel('Cantidad de casas', fontsize = 16)\n",
    "g.right_ax.set_ylabel('Grado de daño promedio', fontsize = 16)\n",
    "g.right_ax.set_ylim(1,2.6)"
   ]
  },
  {
   "cell_type": "code",
   "execution_count": 161,
   "metadata": {
    "scrolled": false
   },
   "outputs": [],
   "source": [
    "material_cement_brick = train_values['has_superstructure_cement_mortar_brick'] == 1\n",
    "cement_brick_persistance = damage_age[material_cement_brick]"
   ]
  },
  {
   "cell_type": "code",
   "execution_count": 162,
   "metadata": {},
   "outputs": [],
   "source": [
    "grouped_by_age = cement_brick_persistance.groupby(['age']).agg({'damage_grade':['mean','count']})\n",
    "level_0 = grouped_by_age.columns.get_level_values(0)\n",
    "level_1 = grouped_by_age.columns.get_level_values(1)\n",
    "grouped_by_age.columns = level_0 + '_' + level_1\n",
    "grouped_by_age.reset_index(inplace = True)\n",
    "col_rename = {'damage_grade_count':'houses_count'}\n",
    "grouped_by_age = grouped_by_age.rename(columns = col_rename)\n",
    "new_col_order = ['age', 'houses_count', 'damage_grade_mean']\n",
    "grouped_by_age = grouped_by_age[new_col_order]"
   ]
  },
  {
   "cell_type": "code",
   "execution_count": 163,
   "metadata": {
    "scrolled": true
   },
   "outputs": [
    {
     "data": {
      "text/plain": [
       "(1.0, 2.6)"
      ]
     },
     "execution_count": 163,
     "metadata": {},
     "output_type": "execute_result"
    },
    {
     "data": {
      "image/png": "[encoded data removed]",
      "text/plain": [
       "<Figure size 1080x360 with 2 Axes>"
      ]
     },
     "metadata": {
      "needs_background": "light"
     },
     "output_type": "display_data"
    }
   ],
   "source": [
    "g = grouped_by_age.set_index('age').head(10).plot(kind = 'bar', figsize = (15, 5), secondary_y = 'damage_grade_mean', legend = False)\n",
    "g.set_title('Promedio de daño según la antigüedad de casas hechas a base de Cemento-Ladrillo', fontsize = 18)\n",
    "g.set_xlabel('Antigüedad', fontsize = 16)\n",
    "g.set_ylabel('Cantidad de casas', fontsize = 16)\n",
    "g.right_ax.set_ylabel('Grado de daño promedio', fontsize = 16)\n",
    "g.right_ax.set_ylim(1,2.6)"
   ]
  },
  {
   "cell_type": "code",
   "execution_count": 164,
   "metadata": {
    "scrolled": false
   },
   "outputs": [],
   "source": [
    "material_timber = train_values['has_superstructure_timber'] == 1\n",
    "timber_persistance = damage_age[material_timber]"
   ]
  },
  {
   "cell_type": "code",
   "execution_count": 165,
   "metadata": {},
   "outputs": [],
   "source": [
    "grouped_by_age = timber_persistance.groupby(['age']).agg({'damage_grade':['mean','count']})\n",
    "level_0 = grouped_by_age.columns.get_level_values(0)\n",
    "level_1 = grouped_by_age.columns.get_level_values(1)\n",
    "grouped_by_age.columns = level_0 + '_' + level_1\n",
    "grouped_by_age.reset_index(inplace = True)\n",
    "col_rename = {'damage_grade_count':'houses_count'}\n",
    "grouped_by_age = grouped_by_age.rename(columns = col_rename)\n",
    "new_col_order = ['age', 'houses_count', 'damage_grade_mean']\n",
    "grouped_by_age = grouped_by_age[new_col_order]"
   ]
  },
  {
   "cell_type": "code",
   "execution_count": 166,
   "metadata": {
    "scrolled": true
   },
   "outputs": [
    {
     "data": {
      "text/plain": [
       "(1.0, 2.6)"
      ]
     },
     "execution_count": 166,
     "metadata": {},
     "output_type": "execute_result"
    },
    {
     "data": {
      "image/png": "[encoded data removed]",
      "text/plain": [
       "<Figure size 1080x360 with 2 Axes>"
      ]
     },
     "metadata": {
      "needs_background": "light"
     },
     "output_type": "display_data"
    }
   ],
   "source": [
    "g = grouped_by_age.set_index('age').head(10).plot(kind = 'bar', figsize = (15, 5), secondary_y = 'damage_grade_mean', legend = False)\n",
    "g.set_title('Promedio de daño según la antigüedad de casas hechas a base de Madera', fontsize = 18)\n",
    "g.set_xlabel('Antigüedad', fontsize = 16)\n",
    "g.set_ylabel('Cantidad de casas', fontsize = 16)\n",
    "g.right_ax.set_ylabel('Grado de daño promedio', fontsize = 16)\n",
    "g.right_ax.set_ylim(1,2.6)"
   ]
  },
  {
   "cell_type": "code",
   "execution_count": 167,
   "metadata": {
    "scrolled": false
   },
   "outputs": [],
   "source": [
    "material_bamboo = train_values['has_superstructure_bamboo'] == 1\n",
    "bamboo_persistance = damage_age[material_bamboo]"
   ]
  },
  {
   "cell_type": "code",
   "execution_count": 168,
   "metadata": {},
   "outputs": [],
   "source": [
    "grouped_by_age = bamboo_persistance.groupby(['age']).agg({'damage_grade':['mean','count']})\n",
    "level_0 = grouped_by_age.columns.get_level_values(0)\n",
    "level_1 = grouped_by_age.columns.get_level_values(1)\n",
    "grouped_by_age.columns = level_0 + '_' + level_1\n",
    "grouped_by_age.reset_index(inplace = True)\n",
    "col_rename = {'damage_grade_count':'houses_count'}\n",
    "grouped_by_age = grouped_by_age.rename(columns = col_rename)\n",
    "new_col_order = ['age', 'houses_count', 'damage_grade_mean']\n",
    "grouped_by_age = grouped_by_age[new_col_order]"
   ]
  },
  {
   "cell_type": "code",
   "execution_count": 169,
   "metadata": {
    "scrolled": true
   },
   "outputs": [
    {
     "data": {
      "text/plain": [
       "(1.0, 2.6)"
      ]
     },
     "execution_count": 169,
     "metadata": {},
     "output_type": "execute_result"
    },
    {
     "data": {
      "image/png": "[encoded data removed]",
      "text/plain": [
       "<Figure size 1080x360 with 2 Axes>"
      ]
     },
     "metadata": {
      "needs_background": "light"
     },
     "output_type": "display_data"
    }
   ],
   "source": [
    "g = grouped_by_age.set_index('age').head(10).plot(kind = 'bar', figsize = (15, 5), secondary_y = 'damage_grade_mean', legend = False)\n",
    "g.set_title('Promedio de daño según la antigüedad de casas hechas a base de Bamboo', fontsize = 18)\n",
    "g.set_xlabel('Antigüedad', fontsize = 16)\n",
    "g.set_ylabel('Cantidad de casas', fontsize = 16)\n",
    "g.right_ax.set_ylabel('Grado de daño promedio', fontsize = 16)\n",
    "g.right_ax.set_ylim(1,2.6)"
   ]
  },
  {
   "cell_type": "code",
   "execution_count": 170,
   "metadata": {
    "scrolled": false
   },
   "outputs": [],
   "source": [
    "material_rc_non_eng = train_values['has_superstructure_rc_non_engineered'] == 1\n",
    "rc_non_eng_persistance = damage_age[material_rc_non_eng]"
   ]
  },
  {
   "cell_type": "code",
   "execution_count": 171,
   "metadata": {},
   "outputs": [],
   "source": [
    "grouped_by_age = rc_non_eng_persistance.groupby(['age']).agg({'damage_grade':['mean','count']})\n",
    "level_0 = grouped_by_age.columns.get_level_values(0)\n",
    "level_1 = grouped_by_age.columns.get_level_values(1)\n",
    "grouped_by_age.columns = level_0 + '_' + level_1\n",
    "grouped_by_age.reset_index(inplace = True)\n",
    "col_rename = {'damage_grade_count':'houses_count'}\n",
    "grouped_by_age = grouped_by_age.rename(columns = col_rename)\n",
    "new_col_order = ['age', 'houses_count', 'damage_grade_mean']\n",
    "grouped_by_age = grouped_by_age[new_col_order]"
   ]
  },
  {
   "cell_type": "code",
   "execution_count": 172,
   "metadata": {
    "scrolled": true
   },
   "outputs": [
    {
     "data": {
      "text/plain": [
       "(1.0, 2.6)"
      ]
     },
     "execution_count": 172,
     "metadata": {},
     "output_type": "execute_result"
    },
    {
     "data": {
      "image/png": "[encoded data removed]",
      "text/plain": [
       "<Figure size 1080x360 with 2 Axes>"
      ]
     },
     "metadata": {
      "needs_background": "light"
     },
     "output_type": "display_data"
    }
   ],
   "source": [
    "g = grouped_by_age.set_index('age').head(10).plot(kind = 'bar', figsize = (15, 5), secondary_y = 'damage_grade_mean', legend = False)\n",
    "g.set_title('Promedio de daño según la antigüedad de casas hechas a base de Concreto Reforzado no Diseñado', fontsize = 18)\n",
    "g.set_xlabel('Antigüedad', fontsize = 16)\n",
    "g.set_ylabel('Cantidad de casas', fontsize = 16)\n",
    "g.right_ax.set_ylabel('Grado de daño promedio', fontsize = 16)\n",
    "g.right_ax.set_ylim(1,2.6)"
   ]
  },
  {
   "cell_type": "code",
   "execution_count": 173,
   "metadata": {
    "scrolled": false
   },
   "outputs": [],
   "source": [
    "material_rc_eng = train_values['has_superstructure_rc_engineered'] == 1\n",
    "rc_eng_persistance = damage_age[material_rc_eng]"
   ]
  },
  {
   "cell_type": "code",
   "execution_count": 174,
   "metadata": {},
   "outputs": [],
   "source": [
    "grouped_by_age = rc_eng_persistance.groupby(['age']).agg({'damage_grade':['mean','count']})\n",
    "level_0 = grouped_by_age.columns.get_level_values(0)\n",
    "level_1 = grouped_by_age.columns.get_level_values(1)\n",
    "grouped_by_age.columns = level_0 + '_' + level_1\n",
    "grouped_by_age.reset_index(inplace = True)\n",
    "col_rename = {'damage_grade_count':'houses_count'}\n",
    "grouped_by_age = grouped_by_age.rename(columns = col_rename)\n",
    "new_col_order = ['age', 'houses_count', 'damage_grade_mean']\n",
    "grouped_by_age = grouped_by_age[new_col_order]"
   ]
  },
  {
   "cell_type": "code",
   "execution_count": 176,
   "metadata": {
    "scrolled": false
   },
   "outputs": [
    {
     "data": {
      "text/plain": [
       "(1.0, 2.6)"
      ]
     },
     "execution_count": 176,
     "metadata": {},
     "output_type": "execute_result"
    },
    {
     "data": {
      "image/png": "[encoded data removed]",
      "text/plain": [
       "<Figure size 1080x360 with 2 Axes>"
      ]
     },
     "metadata": {
      "needs_background": "light"
     },
     "output_type": "display_data"
    }
   ],
   "source": [
    "g = grouped_by_age.set_index('age').head(10).plot(kind = 'bar', figsize = (15, 5), secondary_y = 'damage_grade_mean', legend = False)\n",
    "g.set_title('Promedio de daño según la antigüedad de casas hechas a base de Concreto Reforzado Diseñado', fontsize = 18)\n",
    "g.set_xlabel('Antigüedad', fontsize = 16)\n",
    "g.set_ylabel('Cantidad de casas', fontsize = 16)\n",
    "g.right_ax.set_ylabel('Grado de daño promedio', fontsize = 16)\n",
    "g.right_ax.set_ylim(1,2.6)"
   ]
  },
  {
   "cell_type": "code",
   "execution_count": 177,
   "metadata": {
    "scrolled": false
   },
   "outputs": [],
   "source": [
    "material_other = train_values['has_superstructure_other'] == 1\n",
    "other_persistance = damage_age[material_other]"
   ]
  },
  {
   "cell_type": "code",
   "execution_count": 178,
   "metadata": {},
   "outputs": [],
   "source": [
    "grouped_by_age = other_persistance.groupby(['age']).agg({'damage_grade':['mean','count']})\n",
    "level_0 = grouped_by_age.columns.get_level_values(0)\n",
    "level_1 = grouped_by_age.columns.get_level_values(1)\n",
    "grouped_by_age.columns = level_0 + '_' + level_1\n",
    "grouped_by_age.reset_index(inplace = True)\n",
    "col_rename = {'damage_grade_count':'houses_count'}\n",
    "grouped_by_age = grouped_by_age.rename(columns = col_rename)\n",
    "new_col_order = ['age', 'houses_count', 'damage_grade_mean']\n",
    "grouped_by_age = grouped_by_age[new_col_order]"
   ]
  },
  {
   "cell_type": "code",
   "execution_count": 180,
   "metadata": {
    "scrolled": false
   },
   "outputs": [
    {
     "data": {
      "text/plain": [
       "(1.0, 2.6)"
      ]
     },
     "execution_count": 180,
     "metadata": {},
     "output_type": "execute_result"
    },
    {
     "data": {
      "image/png": "[encoded data removed]",
      "text/plain": [
       "<Figure size 1080x360 with 2 Axes>"
      ]
     },
     "metadata": {
      "needs_background": "light"
     },
     "output_type": "display_data"
    }
   ],
   "source": [
    "g = grouped_by_age.set_index('age').head(10).plot(kind = 'bar', figsize = (15, 5), secondary_y = 'damage_grade_mean', legend = False)\n",
    "g.set_title('Promedio de daño según la antigüedad de casas hechas a base de otros materiales', fontsize = 18)\n",
    "g.set_xlabel('Antigüedad', fontsize = 16)\n",
    "g.set_ylabel('Cantidad de casas', fontsize = 16)\n",
    "g.right_ax.set_ylabel('Grado de daño promedio', fontsize = 16)\n",
    "g.right_ax.set_ylim(1,2.6)"
   ]
  }
 ],
 "metadata": {
  "kernelspec": {
   "display_name": "Python 3",
   "language": "python",
   "name": "python3"
  },
  "language_info": {
   "codemirror_mode": {
    "name": "ipython",
    "version": 3
   },
   "file_extension": ".py",
   "mimetype": "text/x-python",
   "name": "python",
   "nbconvert_exporter": "python",
   "pygments_lexer": "ipython3",
   "version": "3.8.5"
  }
 },
 "nbformat": 4,
 "nbformat_minor": 4
}
