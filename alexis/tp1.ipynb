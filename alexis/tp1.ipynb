{
 "cells": [
  {
   "cell_type": "markdown",
   "metadata": {},
   "source": [
    "## Ideas propuestas"
   ]
  },
  {
   "cell_type": "markdown",
   "metadata": {},
   "source": [
    "Alexis:\n",
    "Ordenado por dificultad de resolución\n",
    "1. Escuelas afectadas por el terremoto\n",
    "2. El material de construcción que más se la bancó (ojo con la media)\n",
    "4. Número de familias afectadas por el terremoto de manera grave\n",
    "2. Casas con más daño recibido según tipo construcción\n",
    "3. Lugar geográfico con más daño recibido\n"
   ]
  },
  {
   "cell_type": "code",
   "execution_count": 44,
   "metadata": {
    "id": "mQDwnOebRYb5"
   },
   "outputs": [],
   "source": [
    "# importacion general de librerias y de visualizacion (matplotlib y seaborn)\n",
    "import pandas as pd\n",
    "import numpy as np\n",
    "import matplotlib.pyplot as plt\n",
    "import seaborn as sns\n",
    "import random as rd\n",
    "%matplotlib inline\n",
    "\n",
    "plt.style.use('default') # haciendo los graficos un poco mas bonitos en matplotlib\n",
    "#plt.rcParams['figure.figsize'] = (20, 10)\n",
    "\n",
    "sns.set(style=\"whitegrid\") # seteando tipo de grid en seaborn\n",
    "\n",
    "pd.options.display.float_format = '{:20,.2f}'.format # suprimimos la notacion cientifica en los outputs\n",
    "\n",
    "#import warnings\n",
    "#warnings.filterwarnings('ignore')"
   ]
  },
  {
   "cell_type": "code",
   "execution_count": 45,
   "metadata": {},
   "outputs": [
    {
     "name": "stdout",
     "output_type": "stream",
     "text": [
      "<class 'pandas.core.frame.DataFrame'>\n",
      "RangeIndex: 260601 entries, 0 to 260600\n",
      "Data columns (total 39 columns):\n",
      " #   Column                                  Non-Null Count   Dtype   \n",
      "---  ------                                  --------------   -----   \n",
      " 0   building_id                             260601 non-null  int32   \n",
      " 1   geo_level_1_id                          260601 non-null  int16   \n",
      " 2   geo_level_2_id                          260601 non-null  int16   \n",
      " 3   geo_level_3_id                          260601 non-null  int16   \n",
      " 4   count_floors_pre_eq                     260601 non-null  int16   \n",
      " 5   age                                     260601 non-null  int16   \n",
      " 6   area_percentage                         260601 non-null  int16   \n",
      " 7   height_percentage                       260601 non-null  int16   \n",
      " 8   land_surface_condition                  260601 non-null  category\n",
      " 9   foundation_type                         260601 non-null  category\n",
      " 10  roof_type                               260601 non-null  category\n",
      " 11  ground_floor_type                       260601 non-null  category\n",
      " 12  other_floor_type                        260601 non-null  category\n",
      " 13  position                                260601 non-null  category\n",
      " 14  plan_configuration                      260601 non-null  category\n",
      " 15  has_superstructure_adobe_mud            260601 non-null  bool    \n",
      " 16  has_superstructure_mud_mortar_stone     260601 non-null  bool    \n",
      " 17  has_superstructure_stone_flag           260601 non-null  bool    \n",
      " 18  has_superstructure_cement_mortar_stone  260601 non-null  bool    \n",
      " 19  has_superstructure_mud_mortar_brick     260601 non-null  bool    \n",
      " 20  has_superstructure_cement_mortar_brick  260601 non-null  bool    \n",
      " 21  has_superstructure_timber               260601 non-null  bool    \n",
      " 22  has_superstructure_bamboo               260601 non-null  bool    \n",
      " 23  has_superstructure_rc_non_engineered    260601 non-null  bool    \n",
      " 24  has_superstructure_rc_engineered        260601 non-null  bool    \n",
      " 25  has_superstructure_other                260601 non-null  bool    \n",
      " 26  legal_ownership_status                  260601 non-null  category\n",
      " 27  count_families                          260601 non-null  int16   \n",
      " 28  has_secondary_use                       260601 non-null  bool    \n",
      " 29  has_secondary_use_agriculture           260601 non-null  bool    \n",
      " 30  has_secondary_use_hotel                 260601 non-null  bool    \n",
      " 31  has_secondary_use_rental                260601 non-null  bool    \n",
      " 32  has_secondary_use_institution           260601 non-null  bool    \n",
      " 33  has_secondary_use_school                260601 non-null  bool    \n",
      " 34  has_secondary_use_industry              260601 non-null  bool    \n",
      " 35  has_secondary_use_health_post           260601 non-null  bool    \n",
      " 36  has_secondary_use_gov_office            260601 non-null  bool    \n",
      " 37  has_secondary_use_use_police            260601 non-null  bool    \n",
      " 38  has_secondary_use_other                 260601 non-null  bool    \n",
      "dtypes: bool(22), category(8), int16(8), int32(1)\n",
      "memory usage: 12.4 MB\n"
     ]
    }
   ],
   "source": [
    "df = pd.read_csv('train_values.csv',nrows=0)\n",
    "columnas = df.columns.to_list()\n",
    "datatypes = {\n",
    "    **{columnas[0]:np.int32}\\\n",
    "    , **{column:np.int16 for column in columnas[1:8] + columnas[27:28]}\\\n",
    "    , **{column:'category' for column in columnas[8:15] + columnas[26:27]}\\\n",
    "    , **{column:np.bool for column in columnas[15:26] + columnas[28:39]}\n",
    "}\n",
    "df = pd.read_csv('train_values.csv',dtype=datatypes,usecols=None)\n",
    "df.info()"
   ]
  },
  {
   "cell_type": "code",
   "execution_count": 46,
   "metadata": {},
   "outputs": [],
   "source": [
    "df2 = pd.read_csv('train_labels.csv',dtype={'building_id':np.int32,'damage_grade':np.int8})"
   ]
  },
  {
   "cell_type": "markdown",
   "metadata": {},
   "source": [
    "1. Escuelas afectadas por el terremoto. Podría seguir con los lugares afectados\n"
   ]
  },
  {
   "cell_type": "code",
   "execution_count": 69,
   "metadata": {},
   "outputs": [],
   "source": [
    "#rename_damage_grade\n",
    "# def damage_grade(building):\n",
    "#     levels = {1:'Leve',2:'Medio',3:'Grave'}\n",
    "#     return levels.get(building['damage_grade'],'unknown')\n",
    "# cant_esc_daños['damage'] = cant_esc_daños.apply(damage_grade, axis=1)\n",
    "# cant_esc_daños = cant_esc_daños[['damage','affected_schools']]\n",
    "# cant_esc_daños\n",
    "# plt.pyplot.pie(cant_esc_daños)"
   ]
  },
  {
   "cell_type": "code",
   "execution_count": 87,
   "metadata": {},
   "outputs": [
    {
     "data": {
      "text/html": [
       "<div>\n",
       "<style scoped>\n",
       "    .dataframe tbody tr th:only-of-type {\n",
       "        vertical-align: middle;\n",
       "    }\n",
       "\n",
       "    .dataframe tbody tr th {\n",
       "        vertical-align: top;\n",
       "    }\n",
       "\n",
       "    .dataframe thead th {\n",
       "        text-align: right;\n",
       "    }\n",
       "</style>\n",
       "<table border=\"1\" class=\"dataframe\">\n",
       "  <thead>\n",
       "    <tr style=\"text-align: right;\">\n",
       "      <th></th>\n",
       "      <th>damage_grade</th>\n",
       "      <th>affected_schools</th>\n",
       "    </tr>\n",
       "  </thead>\n",
       "  <tbody>\n",
       "    <tr>\n",
       "      <th>0</th>\n",
       "      <td>1</td>\n",
       "      <td>30</td>\n",
       "    </tr>\n",
       "    <tr>\n",
       "      <th>1</th>\n",
       "      <td>2</td>\n",
       "      <td>47</td>\n",
       "    </tr>\n",
       "    <tr>\n",
       "      <th>2</th>\n",
       "      <td>3</td>\n",
       "      <td>17</td>\n",
       "    </tr>\n",
       "  </tbody>\n",
       "</table>\n",
       "</div>"
      ],
      "text/plain": [
       "   damage_grade  affected_schools\n",
       "0             1                30\n",
       "1             2                47\n",
       "2             3                17"
      ]
     },
     "execution_count": 87,
     "metadata": {},
     "output_type": "execute_result"
    }
   ],
   "source": [
    "df = pd.read_csv('train_values.csv',dtype=datatypes,usecols=['building_id','has_secondary_use_school'])\n",
    "escuelas = df.loc[df['has_secondary_use_school']==True][['building_id']]\n",
    "escuelas_daños = pd.merge(escuelas,df2,on='building_id',how='inner')[['building_id','damage_grade']]\n",
    "cant_esc_daños = escuelas_daños.groupby('damage_grade').count().reset_index().rename(columns={'building_id':'affected_schools'})\n",
    "cant_esc_daños"
   ]
  },
  {
   "cell_type": "code",
   "execution_count": 100,
   "metadata": {},
   "outputs": [
    {
     "data": {
      "image/png": "[encoded data removed]",
      "text/plain": [
       "<Figure size 640x480 with 1 Axes>"
      ]
     },
     "metadata": {},
     "output_type": "display_data"
    }
   ],
   "source": [
    "labels = ['Leve','Medio','Grave']\n",
    "sizes = cant_esc_daños['affected_schools']\n",
    "\n",
    "fig1, ax1 = plt.subplots()\n",
    "ax1.pie(sizes,colors = ['#13b151','#ead81c','red'], labels=labels, autopct='%1.1f%%',startangle=65)\n",
    "ax1.axis('equal')  # Equal aspect ratio ensures that pie is drawn as a circle.\n",
    "plt.title('Escuelas afectadas por terremoto')\n",
    "plt.show()"
   ]
  },
  {
   "cell_type": "markdown",
   "metadata": {},
   "source": [
    "2. El material de construcción que más se la bancó (ojo con la media)"
   ]
  },
  {
   "cell_type": "code",
   "execution_count": 28,
   "metadata": {},
   "outputs": [
    {
     "data": {
      "text/html": [
       "<div>\n",
       "<style scoped>\n",
       "    .dataframe tbody tr th:only-of-type {\n",
       "        vertical-align: middle;\n",
       "    }\n",
       "\n",
       "    .dataframe tbody tr th {\n",
       "        vertical-align: top;\n",
       "    }\n",
       "\n",
       "    .dataframe thead th {\n",
       "        text-align: right;\n",
       "    }\n",
       "</style>\n",
       "<table border=\"1\" class=\"dataframe\">\n",
       "  <thead>\n",
       "    <tr style=\"text-align: right;\">\n",
       "      <th></th>\n",
       "      <th>has_superstructure_adobe_mud</th>\n",
       "      <th>has_superstructure_mud_mortar_stone</th>\n",
       "      <th>has_superstructure_stone_flag</th>\n",
       "      <th>has_superstructure_cement_mortar_stone</th>\n",
       "      <th>has_superstructure_mud_mortar_brick</th>\n",
       "      <th>has_superstructure_cement_mortar_brick</th>\n",
       "      <th>has_superstructure_timber</th>\n",
       "      <th>has_superstructure_bamboo</th>\n",
       "      <th>has_superstructure_rc_non_engineered</th>\n",
       "      <th>has_superstructure_rc_engineered</th>\n",
       "      <th>has_superstructure_other</th>\n",
       "    </tr>\n",
       "  </thead>\n",
       "  <tbody>\n",
       "    <tr>\n",
       "      <th>False</th>\n",
       "      <td>237500</td>\n",
       "      <td>62040</td>\n",
       "      <td>251654</td>\n",
       "      <td>255849</td>\n",
       "      <td>242840</td>\n",
       "      <td>240986</td>\n",
       "      <td>194151</td>\n",
       "      <td>238447</td>\n",
       "      <td>249502</td>\n",
       "      <td>256468</td>\n",
       "      <td>256696</td>\n",
       "    </tr>\n",
       "    <tr>\n",
       "      <th>True</th>\n",
       "      <td>23101</td>\n",
       "      <td>198561</td>\n",
       "      <td>8947</td>\n",
       "      <td>4752</td>\n",
       "      <td>17761</td>\n",
       "      <td>19615</td>\n",
       "      <td>66450</td>\n",
       "      <td>22154</td>\n",
       "      <td>11099</td>\n",
       "      <td>4133</td>\n",
       "      <td>3905</td>\n",
       "    </tr>\n",
       "  </tbody>\n",
       "</table>\n",
       "</div>"
      ],
      "text/plain": [
       "       has_superstructure_adobe_mud  has_superstructure_mud_mortar_stone  \\\n",
       "False                        237500                                62040   \n",
       "True                          23101                               198561   \n",
       "\n",
       "       has_superstructure_stone_flag  has_superstructure_cement_mortar_stone  \\\n",
       "False                         251654                                  255849   \n",
       "True                            8947                                    4752   \n",
       "\n",
       "       has_superstructure_mud_mortar_brick  \\\n",
       "False                               242840   \n",
       "True                                 17761   \n",
       "\n",
       "       has_superstructure_cement_mortar_brick  has_superstructure_timber  \\\n",
       "False                                  240986                     194151   \n",
       "True                                    19615                      66450   \n",
       "\n",
       "       has_superstructure_bamboo  has_superstructure_rc_non_engineered  \\\n",
       "False                     238447                                249502   \n",
       "True                       22154                                 11099   \n",
       "\n",
       "       has_superstructure_rc_engineered  has_superstructure_other  \n",
       "False                            256468                    256696  \n",
       "True                               4133                      3905  "
      ]
     },
     "execution_count": 28,
     "metadata": {},
     "output_type": "execute_result"
    }
   ],
   "source": [
    "df = pd.read_csv('train_values.csv',dtype=datatypes,usecols=[0]+list(range(15,26))) #building_id + structures\n",
    "df.iloc[:,1:].apply(pd.value_counts,axis=0)\n"
   ]
  }
 ],
 "metadata": {
  "kernelspec": {
   "display_name": "Python 3",
   "language": "python",
   "name": "python3"
  },
  "language_info": {
   "codemirror_mode": {
    "name": "ipython",
    "version": 3
   },
   "file_extension": ".py",
   "mimetype": "text/x-python",
   "name": "python",
   "nbconvert_exporter": "python",
   "pygments_lexer": "ipython3",
   "version": "3.9.1"
  }
 },
 "nbformat": 4,
 "nbformat_minor": 4
}
