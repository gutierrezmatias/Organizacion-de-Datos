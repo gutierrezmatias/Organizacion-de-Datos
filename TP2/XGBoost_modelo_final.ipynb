{
 "cells": [
  {
   "cell_type": "markdown",
   "metadata": {},
   "source": [
    "# Feature Engineering"
   ]
  },
  {
   "cell_type": "code",
   "execution_count": 1,
   "metadata": {
    "id": "mQDwnOebRYb5"
   },
   "outputs": [],
   "source": [
    "# importacion general de librerias y de visualizacion (matplotlib y seaborn)\n",
    "import pandas as pd\n",
    "import numpy as np\n",
    "import matplotlib.pyplot as plt\n",
    "import seaborn as sns\n",
    "import random as rd\n",
    "%matplotlib inline\n",
    "\n",
    "plt.style.use('default') # haciendo los graficos un poco mas bonitos en matplotlib\n",
    "#plt.rcParams['figure.figsize'] = (20, 10)\n",
    "\n",
    "sns.set(style=\"whitegrid\") # seteando tipo de grid en seaborn\n",
    "\n",
    "pd.options.display.float_format = '{:20,.2f}'.format # suprimimos la notacion cientifica en los outputs\n",
    "\n",
    "import warnings\n",
    "warnings.filterwarnings('ignore')"
   ]
  },
  {
   "cell_type": "code",
   "execution_count": 2,
   "metadata": {},
   "outputs": [],
   "source": [
    "from scipy.stats.mstats import winsorize"
   ]
  },
  {
   "cell_type": "markdown",
   "metadata": {},
   "source": [
    "## Carga de datos"
   ]
  },
  {
   "cell_type": "markdown",
   "metadata": {},
   "source": [
    "Se cargan las columnas con formatos adecuados según el tipo de datos.  \n",
    "Se usa como índice building_id para train_values y train_labels  "
   ]
  },
  {
   "cell_type": "code",
   "execution_count": 3,
   "metadata": {},
   "outputs": [],
   "source": [
    "# Train values\n",
    "# Levantar los datos de cada edificio/casa\n",
    "df = pd.read_csv('datos/train_values.csv',nrows=0)\n",
    "columnas = df.columns.to_list()\n",
    "datatypes = {\n",
    "    **{columnas[0]:np.int32}\\\n",
    "    , **{column:np.int16 for column in columnas[1:8] + columnas[27:28]}\\\n",
    "    , **{column:'category' for column in columnas[8:15] + columnas[26:27]}\\\n",
    "    , **{column:np.bool for column in columnas[15:26] + columnas[28:39]}\n",
    "}\n",
    "train_values = pd.read_csv('datos/train_values.csv',dtype=datatypes)\n",
    "train_values = train_values.set_index(\"building_id\")\n",
    "columnas = train_values.columns.to_list()"
   ]
  },
  {
   "cell_type": "code",
   "execution_count": 4,
   "metadata": {},
   "outputs": [],
   "source": [
    "#Train labels\n",
    "train_labels = pd.read_csv('datos/train_labels.csv',index_col='building_id')"
   ]
  },
  {
   "cell_type": "markdown",
   "metadata": {},
   "source": [
    "## Información de los datasets"
   ]
  },
  {
   "cell_type": "code",
   "execution_count": 5,
   "metadata": {},
   "outputs": [
    {
     "name": "stdout",
     "output_type": "stream",
     "text": [
      "<class 'pandas.core.frame.DataFrame'>\n",
      "Int64Index: 260601 entries, 802906 to 747594\n",
      "Data columns (total 38 columns):\n",
      " #   Column                                  Non-Null Count   Dtype   \n",
      "---  ------                                  --------------   -----   \n",
      " 0   geo_level_1_id                          260601 non-null  int16   \n",
      " 1   geo_level_2_id                          260601 non-null  int16   \n",
      " 2   geo_level_3_id                          260601 non-null  int16   \n",
      " 3   count_floors_pre_eq                     260601 non-null  int16   \n",
      " 4   age                                     260601 non-null  int16   \n",
      " 5   area_percentage                         260601 non-null  int16   \n",
      " 6   height_percentage                       260601 non-null  int16   \n",
      " 7   land_surface_condition                  260601 non-null  category\n",
      " 8   foundation_type                         260601 non-null  category\n",
      " 9   roof_type                               260601 non-null  category\n",
      " 10  ground_floor_type                       260601 non-null  category\n",
      " 11  other_floor_type                        260601 non-null  category\n",
      " 12  position                                260601 non-null  category\n",
      " 13  plan_configuration                      260601 non-null  category\n",
      " 14  has_superstructure_adobe_mud            260601 non-null  bool    \n",
      " 15  has_superstructure_mud_mortar_stone     260601 non-null  bool    \n",
      " 16  has_superstructure_stone_flag           260601 non-null  bool    \n",
      " 17  has_superstructure_cement_mortar_stone  260601 non-null  bool    \n",
      " 18  has_superstructure_mud_mortar_brick     260601 non-null  bool    \n",
      " 19  has_superstructure_cement_mortar_brick  260601 non-null  bool    \n",
      " 20  has_superstructure_timber               260601 non-null  bool    \n",
      " 21  has_superstructure_bamboo               260601 non-null  bool    \n",
      " 22  has_superstructure_rc_non_engineered    260601 non-null  bool    \n",
      " 23  has_superstructure_rc_engineered        260601 non-null  bool    \n",
      " 24  has_superstructure_other                260601 non-null  bool    \n",
      " 25  legal_ownership_status                  260601 non-null  category\n",
      " 26  count_families                          260601 non-null  int16   \n",
      " 27  has_secondary_use                       260601 non-null  bool    \n",
      " 28  has_secondary_use_agriculture           260601 non-null  bool    \n",
      " 29  has_secondary_use_hotel                 260601 non-null  bool    \n",
      " 30  has_secondary_use_rental                260601 non-null  bool    \n",
      " 31  has_secondary_use_institution           260601 non-null  bool    \n",
      " 32  has_secondary_use_school                260601 non-null  bool    \n",
      " 33  has_secondary_use_industry              260601 non-null  bool    \n",
      " 34  has_secondary_use_health_post           260601 non-null  bool    \n",
      " 35  has_secondary_use_gov_office            260601 non-null  bool    \n",
      " 36  has_secondary_use_use_police            260601 non-null  bool    \n",
      " 37  has_secondary_use_other                 260601 non-null  bool    \n",
      "dtypes: bool(22), category(8), int16(8)\n",
      "memory usage: 13.4 MB\n"
     ]
    }
   ],
   "source": [
    "train_values.info()"
   ]
  },
  {
   "cell_type": "code",
   "execution_count": 6,
   "metadata": {},
   "outputs": [
    {
     "data": {
      "text/html": [
       "<div>\n",
       "<style scoped>\n",
       "    .dataframe tbody tr th:only-of-type {\n",
       "        vertical-align: middle;\n",
       "    }\n",
       "\n",
       "    .dataframe tbody tr th {\n",
       "        vertical-align: top;\n",
       "    }\n",
       "\n",
       "    .dataframe thead th {\n",
       "        text-align: right;\n",
       "    }\n",
       "</style>\n",
       "<table border=\"1\" class=\"dataframe\">\n",
       "  <thead>\n",
       "    <tr style=\"text-align: right;\">\n",
       "      <th></th>\n",
       "      <th>geo_level_1_id</th>\n",
       "      <th>geo_level_2_id</th>\n",
       "      <th>geo_level_3_id</th>\n",
       "      <th>count_floors_pre_eq</th>\n",
       "      <th>age</th>\n",
       "      <th>area_percentage</th>\n",
       "      <th>height_percentage</th>\n",
       "      <th>land_surface_condition</th>\n",
       "      <th>foundation_type</th>\n",
       "      <th>roof_type</th>\n",
       "      <th>...</th>\n",
       "      <th>has_secondary_use_agriculture</th>\n",
       "      <th>has_secondary_use_hotel</th>\n",
       "      <th>has_secondary_use_rental</th>\n",
       "      <th>has_secondary_use_institution</th>\n",
       "      <th>has_secondary_use_school</th>\n",
       "      <th>has_secondary_use_industry</th>\n",
       "      <th>has_secondary_use_health_post</th>\n",
       "      <th>has_secondary_use_gov_office</th>\n",
       "      <th>has_secondary_use_use_police</th>\n",
       "      <th>has_secondary_use_other</th>\n",
       "    </tr>\n",
       "    <tr>\n",
       "      <th>building_id</th>\n",
       "      <th></th>\n",
       "      <th></th>\n",
       "      <th></th>\n",
       "      <th></th>\n",
       "      <th></th>\n",
       "      <th></th>\n",
       "      <th></th>\n",
       "      <th></th>\n",
       "      <th></th>\n",
       "      <th></th>\n",
       "      <th></th>\n",
       "      <th></th>\n",
       "      <th></th>\n",
       "      <th></th>\n",
       "      <th></th>\n",
       "      <th></th>\n",
       "      <th></th>\n",
       "      <th></th>\n",
       "      <th></th>\n",
       "      <th></th>\n",
       "      <th></th>\n",
       "    </tr>\n",
       "  </thead>\n",
       "  <tbody>\n",
       "    <tr>\n",
       "      <th>802906</th>\n",
       "      <td>6</td>\n",
       "      <td>487</td>\n",
       "      <td>12198</td>\n",
       "      <td>2</td>\n",
       "      <td>30</td>\n",
       "      <td>6</td>\n",
       "      <td>5</td>\n",
       "      <td>t</td>\n",
       "      <td>r</td>\n",
       "      <td>n</td>\n",
       "      <td>...</td>\n",
       "      <td>False</td>\n",
       "      <td>False</td>\n",
       "      <td>False</td>\n",
       "      <td>False</td>\n",
       "      <td>False</td>\n",
       "      <td>False</td>\n",
       "      <td>False</td>\n",
       "      <td>False</td>\n",
       "      <td>False</td>\n",
       "      <td>False</td>\n",
       "    </tr>\n",
       "    <tr>\n",
       "      <th>28830</th>\n",
       "      <td>8</td>\n",
       "      <td>900</td>\n",
       "      <td>2812</td>\n",
       "      <td>2</td>\n",
       "      <td>10</td>\n",
       "      <td>8</td>\n",
       "      <td>7</td>\n",
       "      <td>o</td>\n",
       "      <td>r</td>\n",
       "      <td>n</td>\n",
       "      <td>...</td>\n",
       "      <td>False</td>\n",
       "      <td>False</td>\n",
       "      <td>False</td>\n",
       "      <td>False</td>\n",
       "      <td>False</td>\n",
       "      <td>False</td>\n",
       "      <td>False</td>\n",
       "      <td>False</td>\n",
       "      <td>False</td>\n",
       "      <td>False</td>\n",
       "    </tr>\n",
       "    <tr>\n",
       "      <th>94947</th>\n",
       "      <td>21</td>\n",
       "      <td>363</td>\n",
       "      <td>8973</td>\n",
       "      <td>2</td>\n",
       "      <td>10</td>\n",
       "      <td>5</td>\n",
       "      <td>5</td>\n",
       "      <td>t</td>\n",
       "      <td>r</td>\n",
       "      <td>n</td>\n",
       "      <td>...</td>\n",
       "      <td>False</td>\n",
       "      <td>False</td>\n",
       "      <td>False</td>\n",
       "      <td>False</td>\n",
       "      <td>False</td>\n",
       "      <td>False</td>\n",
       "      <td>False</td>\n",
       "      <td>False</td>\n",
       "      <td>False</td>\n",
       "      <td>False</td>\n",
       "    </tr>\n",
       "    <tr>\n",
       "      <th>590882</th>\n",
       "      <td>22</td>\n",
       "      <td>418</td>\n",
       "      <td>10694</td>\n",
       "      <td>2</td>\n",
       "      <td>10</td>\n",
       "      <td>6</td>\n",
       "      <td>5</td>\n",
       "      <td>t</td>\n",
       "      <td>r</td>\n",
       "      <td>n</td>\n",
       "      <td>...</td>\n",
       "      <td>False</td>\n",
       "      <td>False</td>\n",
       "      <td>False</td>\n",
       "      <td>False</td>\n",
       "      <td>False</td>\n",
       "      <td>False</td>\n",
       "      <td>False</td>\n",
       "      <td>False</td>\n",
       "      <td>False</td>\n",
       "      <td>False</td>\n",
       "    </tr>\n",
       "    <tr>\n",
       "      <th>201944</th>\n",
       "      <td>11</td>\n",
       "      <td>131</td>\n",
       "      <td>1488</td>\n",
       "      <td>3</td>\n",
       "      <td>30</td>\n",
       "      <td>8</td>\n",
       "      <td>9</td>\n",
       "      <td>t</td>\n",
       "      <td>r</td>\n",
       "      <td>n</td>\n",
       "      <td>...</td>\n",
       "      <td>False</td>\n",
       "      <td>False</td>\n",
       "      <td>False</td>\n",
       "      <td>False</td>\n",
       "      <td>False</td>\n",
       "      <td>False</td>\n",
       "      <td>False</td>\n",
       "      <td>False</td>\n",
       "      <td>False</td>\n",
       "      <td>False</td>\n",
       "    </tr>\n",
       "  </tbody>\n",
       "</table>\n",
       "<p>5 rows × 38 columns</p>\n",
       "</div>"
      ],
      "text/plain": [
       "             geo_level_1_id  geo_level_2_id  geo_level_3_id  \\\n",
       "building_id                                                   \n",
       "802906                    6             487           12198   \n",
       "28830                     8             900            2812   \n",
       "94947                    21             363            8973   \n",
       "590882                   22             418           10694   \n",
       "201944                   11             131            1488   \n",
       "\n",
       "             count_floors_pre_eq  age  area_percentage  height_percentage  \\\n",
       "building_id                                                                 \n",
       "802906                         2   30                6                  5   \n",
       "28830                          2   10                8                  7   \n",
       "94947                          2   10                5                  5   \n",
       "590882                         2   10                6                  5   \n",
       "201944                         3   30                8                  9   \n",
       "\n",
       "            land_surface_condition foundation_type roof_type  ...  \\\n",
       "building_id                                                   ...   \n",
       "802906                           t               r         n  ...   \n",
       "28830                            o               r         n  ...   \n",
       "94947                            t               r         n  ...   \n",
       "590882                           t               r         n  ...   \n",
       "201944                           t               r         n  ...   \n",
       "\n",
       "            has_secondary_use_agriculture has_secondary_use_hotel  \\\n",
       "building_id                                                         \n",
       "802906                              False                   False   \n",
       "28830                               False                   False   \n",
       "94947                               False                   False   \n",
       "590882                              False                   False   \n",
       "201944                              False                   False   \n",
       "\n",
       "            has_secondary_use_rental has_secondary_use_institution  \\\n",
       "building_id                                                          \n",
       "802906                         False                         False   \n",
       "28830                          False                         False   \n",
       "94947                          False                         False   \n",
       "590882                         False                         False   \n",
       "201944                         False                         False   \n",
       "\n",
       "             has_secondary_use_school  has_secondary_use_industry  \\\n",
       "building_id                                                         \n",
       "802906                          False                       False   \n",
       "28830                           False                       False   \n",
       "94947                           False                       False   \n",
       "590882                          False                       False   \n",
       "201944                          False                       False   \n",
       "\n",
       "             has_secondary_use_health_post  has_secondary_use_gov_office  \\\n",
       "building_id                                                                \n",
       "802906                               False                         False   \n",
       "28830                                False                         False   \n",
       "94947                                False                         False   \n",
       "590882                               False                         False   \n",
       "201944                               False                         False   \n",
       "\n",
       "             has_secondary_use_use_police  has_secondary_use_other  \n",
       "building_id                                                         \n",
       "802906                              False                    False  \n",
       "28830                               False                    False  \n",
       "94947                               False                    False  \n",
       "590882                              False                    False  \n",
       "201944                              False                    False  \n",
       "\n",
       "[5 rows x 38 columns]"
      ]
     },
     "execution_count": 6,
     "metadata": {},
     "output_type": "execute_result"
    }
   ],
   "source": [
    "train_values.head()"
   ]
  },
  {
   "cell_type": "code",
   "execution_count": 7,
   "metadata": {},
   "outputs": [
    {
     "data": {
      "text/html": [
       "<div>\n",
       "<style scoped>\n",
       "    .dataframe tbody tr th:only-of-type {\n",
       "        vertical-align: middle;\n",
       "    }\n",
       "\n",
       "    .dataframe tbody tr th {\n",
       "        vertical-align: top;\n",
       "    }\n",
       "\n",
       "    .dataframe thead th {\n",
       "        text-align: right;\n",
       "    }\n",
       "</style>\n",
       "<table border=\"1\" class=\"dataframe\">\n",
       "  <thead>\n",
       "    <tr style=\"text-align: right;\">\n",
       "      <th></th>\n",
       "      <th>damage_grade</th>\n",
       "    </tr>\n",
       "    <tr>\n",
       "      <th>building_id</th>\n",
       "      <th></th>\n",
       "    </tr>\n",
       "  </thead>\n",
       "  <tbody>\n",
       "    <tr>\n",
       "      <th>802906</th>\n",
       "      <td>3</td>\n",
       "    </tr>\n",
       "    <tr>\n",
       "      <th>28830</th>\n",
       "      <td>2</td>\n",
       "    </tr>\n",
       "    <tr>\n",
       "      <th>94947</th>\n",
       "      <td>3</td>\n",
       "    </tr>\n",
       "    <tr>\n",
       "      <th>590882</th>\n",
       "      <td>2</td>\n",
       "    </tr>\n",
       "    <tr>\n",
       "      <th>201944</th>\n",
       "      <td>3</td>\n",
       "    </tr>\n",
       "  </tbody>\n",
       "</table>\n",
       "</div>"
      ],
      "text/plain": [
       "             damage_grade\n",
       "building_id              \n",
       "802906                  3\n",
       "28830                   2\n",
       "94947                   3\n",
       "590882                  2\n",
       "201944                  3"
      ]
     },
     "execution_count": 7,
     "metadata": {},
     "output_type": "execute_result"
    }
   ],
   "source": [
    "train_labels.head()"
   ]
  },
  {
   "cell_type": "markdown",
   "metadata": {},
   "source": [
    "# Aplicamos transformaciones"
   ]
  },
  {
   "cell_type": "code",
   "execution_count": 8,
   "metadata": {},
   "outputs": [],
   "source": [
    "# for combining the preprocess with model training\n",
    "from sklearn.pipeline import Pipeline\n",
    "\n",
    "# for optimizing the hyperparameters of the pipeline\n",
    "from sklearn.model_selection import GridSearchCV\n",
    "\n",
    "from sklearn.preprocessing import FunctionTransformer\n",
    "from sklearn.preprocessing import OneHotEncoder\n",
    "from sklearn.pipeline import FeatureUnion"
   ]
  },
  {
   "cell_type": "code",
   "execution_count": 9,
   "metadata": {},
   "outputs": [],
   "source": [
    "class DataframeFunctionTransformer():\n",
    "    def __init__(self, func):\n",
    "        self.func = func\n",
    "\n",
    "    def transform(self, input_df, **transform_params):\n",
    "        return self.func(input_df)\n",
    "\n",
    "    def fit(self, X, y=None, **fit_params):\n",
    "        return self\n",
    "\n",
    "# this function takes a dataframe as input and\n",
    "# returns a modified version thereof\n",
    "def select_columns_iloc(input_df,range_columns):\n",
    "    output_df = input_df.iloc[:,range_columns[0]:range_columns[1]]\n",
    "    return output_df\n",
    "\n",
    "def drop_columns(input_df,columns):\n",
    "    output_df = input_df.copy()\n",
    "    for column_name in columns:\n",
    "        output_df = output_df.drop(labels=column_name,axis=1)\n",
    "    return output_df\n",
    "\n",
    "def winsorize_columns(input_df,columns_to_winsorize,ranges_winsorize):\n",
    "    for i in range(len(columns_to_winsorize)):\n",
    "        columna_winsorize = winsorize(input_df[columns_to_winsorize[i]],ranges_winsorize[i])\n",
    "        input_df[columns_to_winsorize[i]] = columna_winsorize\n",
    "    return input_df\n",
    "\n",
    "def get_dummies_transform(input_df):\n",
    "    return pd.get_dummies(input_df)\n",
    "\n",
    "#auxiliar\n",
    "def nombre_nueva_mean_col(col_name,damage_grade):\n",
    "    damage_names = {1:'low',2:'medium',3:'high'}\n",
    "    return 'mean_'+damage_names[damage_grade]+'_damage_'+col_name\n",
    "\n",
    "#generalizar para una columna\n",
    "def agregar_col_mean_daño_por_columna(input_df,labels_df,col_name,damage_grade):\n",
    "    \"\"\"Agrega una columna llamada mean_damage_'col_name' con el mean damage para el daño 'damage_grade'\"\"\"\n",
    "    work_df = input_df[[col_name]].copy()\n",
    "    work_df = work_df.join(labels_df,on='building_id',how='inner')\n",
    "    work_df['count_damage_i'] = work_df['damage_grade'] == damage_grade\n",
    "    new_col_name = nombre_nueva_mean_col(col_name,damage_grade)\n",
    "    input_df[new_col_name] = work_df.groupby(col_name).transform('mean')['count_damage_i']\n",
    "    return input_df\n"
   ]
  },
  {
   "cell_type": "code",
   "execution_count": 28,
   "metadata": {},
   "outputs": [],
   "source": [
    "#Ajustes iniciales\n",
    "pipeline_inicial = Pipeline([\n",
    "    (\"drop_has_sec_variants\", FunctionTransformer(select_columns_iloc,kw_args={'range_columns':(0,28)})),\n",
    "    (\"drop_plan_config\", FunctionTransformer(drop_columns,kw_args={'columns': ['plan_configuration']})),\n",
    "    (\"winsorize\", FunctionTransformer(winsorize_columns,kw_args={'columns_to_winsorize': ['age','area_percentage','height_percentage'],\n",
    "                                                                'ranges_winsorize': [(0,0.03),(0,0.03),(0,0.06)]})),\n",
    "])\n",
    "# Probar al final si sacarlos obtengo mejor score."
   ]
  },
  {
   "cell_type": "code",
   "execution_count": 29,
   "metadata": {},
   "outputs": [],
   "source": [
    "#Mean col geo\n",
    "steps_daños = []\n",
    "for geo_level_id in range(1,4):\n",
    "    for damage_grade in range(1,4):\n",
    "        nombre_step = 'add_damage_'+str(damage_grade)+'_geo_'+str(geo_level_id)\n",
    "        args = {'labels_df': train_labels,'col_name': 'geo_level_'+str(geo_level_id)+'_id','damage_grade':damage_grade}\n",
    "        steps_daños.append((nombre_step,FunctionTransformer(agregar_col_mean_daño_por_columna,kw_args=args)))"
   ]
  },
  {
   "cell_type": "code",
   "execution_count": 30,
   "metadata": {},
   "outputs": [],
   "source": [
    "pipeline_daños = Pipeline(steps=steps_daños)\n",
    "#pipeline_daños"
   ]
  },
  {
   "cell_type": "code",
   "execution_count": 31,
   "metadata": {},
   "outputs": [],
   "source": [
    "#Mean col area\n",
    "steps_area = []\n",
    "for damage_grade in range(1,4):\n",
    "    nombre_step = 'add_damage_'+str(damage_grade)+'_height'\n",
    "    args = {'labels_df': train_labels,'col_name': 'area_percentage','damage_grade':damage_grade}\n",
    "    steps_area.append((nombre_step,FunctionTransformer(agregar_col_mean_daño_por_columna,kw_args=args)))"
   ]
  },
  {
   "cell_type": "code",
   "execution_count": 32,
   "metadata": {},
   "outputs": [],
   "source": [
    "pipeline_area= Pipeline(steps=steps_area)"
   ]
  },
  {
   "cell_type": "markdown",
   "metadata": {},
   "source": [
    "### Aplico transformaciones"
   ]
  },
  {
   "cell_type": "code",
   "execution_count": 33,
   "metadata": {},
   "outputs": [],
   "source": [
    "train_values_transformado = pipeline_inicial.fit_transform(train_values)"
   ]
  },
  {
   "cell_type": "code",
   "execution_count": 34,
   "metadata": {},
   "outputs": [],
   "source": [
    "train_values_transformado = pipeline_daños.fit_transform(train_values_transformado)"
   ]
  },
  {
   "cell_type": "code",
   "execution_count": 35,
   "metadata": {},
   "outputs": [],
   "source": [
    "train_values_transformado = pipeline_area.fit_transform(train_values_transformado)"
   ]
  },
  {
   "cell_type": "code",
   "execution_count": 36,
   "metadata": {},
   "outputs": [],
   "source": [
    "train_values_transformado = pd.get_dummies(train_values_transformado)"
   ]
  },
  {
   "cell_type": "code",
   "execution_count": 37,
   "metadata": {},
   "outputs": [
    {
     "name": "stdout",
     "output_type": "stream",
     "text": [
      "<class 'pandas.core.frame.DataFrame'>\n",
      "Int64Index: 260601 entries, 802906 to 747594\n",
      "Data columns (total 60 columns):\n",
      " #   Column                                  Non-Null Count   Dtype  \n",
      "---  ------                                  --------------   -----  \n",
      " 0   geo_level_1_id                          260601 non-null  int16  \n",
      " 1   geo_level_2_id                          260601 non-null  int16  \n",
      " 2   geo_level_3_id                          260601 non-null  int16  \n",
      " 3   count_floors_pre_eq                     260601 non-null  int16  \n",
      " 4   age                                     260601 non-null  int16  \n",
      " 5   area_percentage                         260601 non-null  int16  \n",
      " 6   height_percentage                       260601 non-null  int16  \n",
      " 7   has_superstructure_adobe_mud            260601 non-null  bool   \n",
      " 8   has_superstructure_mud_mortar_stone     260601 non-null  bool   \n",
      " 9   has_superstructure_stone_flag           260601 non-null  bool   \n",
      " 10  has_superstructure_cement_mortar_stone  260601 non-null  bool   \n",
      " 11  has_superstructure_mud_mortar_brick     260601 non-null  bool   \n",
      " 12  has_superstructure_cement_mortar_brick  260601 non-null  bool   \n",
      " 13  has_superstructure_timber               260601 non-null  bool   \n",
      " 14  has_superstructure_bamboo               260601 non-null  bool   \n",
      " 15  has_superstructure_rc_non_engineered    260601 non-null  bool   \n",
      " 16  has_superstructure_rc_engineered        260601 non-null  bool   \n",
      " 17  has_superstructure_other                260601 non-null  bool   \n",
      " 18  count_families                          260601 non-null  int16  \n",
      " 19  has_secondary_use                       260601 non-null  bool   \n",
      " 20  mean_low_damage_geo_level_1_id          260601 non-null  float64\n",
      " 21  mean_medium_damage_geo_level_1_id       260601 non-null  float64\n",
      " 22  mean_high_damage_geo_level_1_id         260601 non-null  float64\n",
      " 23  mean_low_damage_geo_level_2_id          260601 non-null  float64\n",
      " 24  mean_medium_damage_geo_level_2_id       260601 non-null  float64\n",
      " 25  mean_high_damage_geo_level_2_id         260601 non-null  float64\n",
      " 26  mean_low_damage_geo_level_3_id          260601 non-null  float64\n",
      " 27  mean_medium_damage_geo_level_3_id       260601 non-null  float64\n",
      " 28  mean_high_damage_geo_level_3_id         260601 non-null  float64\n",
      " 29  mean_low_damage_area_percentage         260601 non-null  float64\n",
      " 30  mean_medium_damage_area_percentage      260601 non-null  float64\n",
      " 31  mean_high_damage_area_percentage        260601 non-null  float64\n",
      " 32  land_surface_condition_n                260601 non-null  uint8  \n",
      " 33  land_surface_condition_o                260601 non-null  uint8  \n",
      " 34  land_surface_condition_t                260601 non-null  uint8  \n",
      " 35  foundation_type_h                       260601 non-null  uint8  \n",
      " 36  foundation_type_i                       260601 non-null  uint8  \n",
      " 37  foundation_type_r                       260601 non-null  uint8  \n",
      " 38  foundation_type_u                       260601 non-null  uint8  \n",
      " 39  foundation_type_w                       260601 non-null  uint8  \n",
      " 40  roof_type_n                             260601 non-null  uint8  \n",
      " 41  roof_type_q                             260601 non-null  uint8  \n",
      " 42  roof_type_x                             260601 non-null  uint8  \n",
      " 43  ground_floor_type_f                     260601 non-null  uint8  \n",
      " 44  ground_floor_type_m                     260601 non-null  uint8  \n",
      " 45  ground_floor_type_v                     260601 non-null  uint8  \n",
      " 46  ground_floor_type_x                     260601 non-null  uint8  \n",
      " 47  ground_floor_type_z                     260601 non-null  uint8  \n",
      " 48  other_floor_type_j                      260601 non-null  uint8  \n",
      " 49  other_floor_type_q                      260601 non-null  uint8  \n",
      " 50  other_floor_type_s                      260601 non-null  uint8  \n",
      " 51  other_floor_type_x                      260601 non-null  uint8  \n",
      " 52  position_j                              260601 non-null  uint8  \n",
      " 53  position_o                              260601 non-null  uint8  \n",
      " 54  position_s                              260601 non-null  uint8  \n",
      " 55  position_t                              260601 non-null  uint8  \n",
      " 56  legal_ownership_status_a                260601 non-null  uint8  \n",
      " 57  legal_ownership_status_r                260601 non-null  uint8  \n",
      " 58  legal_ownership_status_v                260601 non-null  uint8  \n",
      " 59  legal_ownership_status_w                260601 non-null  uint8  \n",
      "dtypes: bool(12), float64(12), int16(8), uint8(28)\n",
      "memory usage: 39.8 MB\n"
     ]
    }
   ],
   "source": [
    "train_values_transformado.info()"
   ]
  },
  {
   "cell_type": "markdown",
   "metadata": {},
   "source": [
    "XGBoost"
   ]
  },
  {
   "cell_type": "code",
   "execution_count": 38,
   "metadata": {},
   "outputs": [],
   "source": [
    "import xgboost as xgb\n",
    "import time\n",
    "from datetime import datetime\n",
    "from sklearn.metrics import f1_score\n",
    "from sklearn.metrics import accuracy_score\n",
    "from sklearn.model_selection import cross_val_score\n",
    "import sys"
   ]
  },
  {
   "cell_type": "markdown",
   "metadata": {},
   "source": [
    "## Utilizo los mejores parámetros"
   ]
  },
  {
   "cell_type": "code",
   "execution_count": 89,
   "metadata": {},
   "outputs": [],
   "source": [
    "xgb_model = xgb.XGBClassifier(objective=\"multi:softprob\",\n",
    "                              eval_metric='mlogloss',\n",
    "                              max_depth=9,\n",
    "                              n_estimators= 340,\n",
    "                              eta=0.1,\n",
    "                              gamma=3,\n",
    "                              subsample= 0.9,\n",
    "                              max_delta_step= 0,\n",
    "                              colsample_bytree= 0.9,\n",
    "                              min_child_weight=2,  \n",
    "                              )"
   ]
  },
  {
   "cell_type": "code",
   "execution_count": 90,
   "metadata": {},
   "outputs": [
    {
     "name": "stdout",
     "output_type": "stream",
     "text": [
      "--- Duración: 700.8613498210907 segundos ---\n"
     ]
    }
   ],
   "source": [
    "start_time = time.time()\n",
    "train_values_subset = train_values_transformado\n",
    "#scores_best_norm = cross_val_score(xgb_model, train_values_transformado, train_labels.values.ravel())\n",
    "xgb_model.fit(train_values_subset,train_labels.values.ravel() )\n",
    "print(\"--- Duración: %s segundos ---\" % (time.time() - start_time))\n",
    "#print(scores_best_norm)\n",
    "#print(scores_best_norm.mean())"
   ]
  },
  {
   "cell_type": "code",
   "execution_count": 91,
   "metadata": {},
   "outputs": [
    {
     "name": "stdout",
     "output_type": "stream",
     "text": [
      "Pretty printing has been turned ON\n"
     ]
    }
   ],
   "source": [
    "pprint(xgb_model.get_params())"
   ]
  },
  {
   "cell_type": "code",
   "execution_count": 92,
   "metadata": {},
   "outputs": [
    {
     "data": {
      "text/plain": [
       "0.7815894797026872"
      ]
     },
     "execution_count": 92,
     "metadata": {},
     "output_type": "execute_result"
    }
   ],
   "source": [
    "#Score a mejorar 0.7931..\n",
    "y_pred = xgb_model.predict(train_values_subset)\n",
    "f1_score(train_labels, y_pred, average='micro')"
   ]
  },
  {
   "cell_type": "code",
   "execution_count": 93,
   "metadata": {},
   "outputs": [],
   "source": [
    "# import pickle\n",
    "# filename = 'modelos/xgb_modelo_7444.sav'\n",
    "# pickle.dump(xgb_model, open(filename, 'wb'))"
   ]
  },
  {
   "cell_type": "markdown",
   "metadata": {},
   "source": [
    "**Pruebas raras**:\n",
    "* Si tiene la misma cantidad de columnas con el cual se entrenó el algoritmo -> lo va a predecir (Ojo)  \n",
    "\n",
    "Registro de scores (random_state = 99, con objective=multi:softmax y eval_metric= mlogloss sin nada más):  \n",
    "**GENERALES**\n",
    "* Con todos los features y one-hot-encoding -> 0.7442\n",
    "* Con todos los features (OHE) y normalización (StandardScaler) -> 0.7452\n",
    "* Con todos los features (OHE) y normalización (MinMaxScaler) -> 0.7452  \n",
    "\n",
    "\n",
    "\n",
    "**Eliminación de columnas**  \n",
    "* Sin plan_configuration : 0.7447\n",
    "* Sin has_secondary específicos y sin plan_configuration : Score: 0.7467 Score Test: 0.7304\n",
    "* Sin has_secondary (ninguno) -> 0.7440\n",
    "* Sin plan configuration -> 0.7442\n",
    "* Sin has_secondary (ninguno) y sin legal_ownership_status-> 0.7437\n",
    "* Sin has_secondary específicos -> 0.743922\n",
    "* Sin has_secondary específicos y sin plan configuration ->0.7456\n",
    "* Lo mismo que el anterior pero ahora sin plan_configuration -> 0.7412  \n",
    "\n",
    "**Sin has_secondary específicos ni plan_configuration- Objetivo>0.7467** (Mejorar no hacer nada):  \n",
    "* Con winsorizing para age:0.05 , area_percentage:0.06 , height_percentage:0.02. Score entr:0.7457\n",
    "* Con winsorizing para age:0.01 , area_percentage:0.06 , height_percentage:0.02. Score entr:0.7454 -> legal_ownership_status\n",
    "* Con winsorizing para age:0.03 , area_percentage:0.03 , height_percentage:0.06. Score entr:0.7473 Score Test:0.7307\n",
    "\n",
    "**Pruebo sin sacar columnas**\n",
    "* Con winsorizing para age:0.03 , area_percentage:0.03 , height_percentage:0.06. Score entr:0.7448\n",
    "\n",
    "**Target encoding damage**\n",
    "* geo_level_1_id -> score:0.7463\n",
    "* geo_level_2_id -> score:0.7529\n",
    "* geo_level_3_id -> score:0.7689\n",
    "* geo_level_1_id + geo_level_2_id: 0.7531\n",
    "* geo_level_1_id + geo_level_2_id + geo_level_3_id -> Train score:  0.7690. Test Score: 0.7409\n",
    "* geo_level_id todos los daños y todos los id: 0.7766, Test Score: 0.7444\n",
    "* mean damages superstructure->: 0.7460\n",
    "* geo_level_id (todos) + superstructure (todos) -> 0.7768, Test Score: 0.7428\n",
    "\n",
    "**Randomized Search**\n",
    "ranking 1-> Score test: 0.7468\n",
    "ranking 2-> Score test: 0.74"
   ]
  },
  {
   "cell_type": "markdown",
   "metadata": {},
   "source": [
    "## Predecir el set de test de DrivenData"
   ]
  },
  {
   "cell_type": "markdown",
   "metadata": {},
   "source": [
    "Tenemos que predecir nuevos valores de los que desconocemos sus labels o daños.  \n",
    "Solo tenemos sus columnas o features. Vamos a utilizar nuestro modelo para predecir."
   ]
  },
  {
   "cell_type": "code",
   "execution_count": 94,
   "metadata": {},
   "outputs": [],
   "source": [
    "test_values = pd.read_csv('datos/test_values.csv', index_col='building_id')"
   ]
  },
  {
   "cell_type": "code",
   "execution_count": 95,
   "metadata": {},
   "outputs": [
    {
     "name": "stdout",
     "output_type": "stream",
     "text": [
      "<class 'pandas.core.frame.DataFrame'>\n",
      "Int64Index: 86868 entries, 300051 to 501372\n",
      "Data columns (total 38 columns):\n",
      " #   Column                                  Non-Null Count  Dtype \n",
      "---  ------                                  --------------  ----- \n",
      " 0   geo_level_1_id                          86868 non-null  int64 \n",
      " 1   geo_level_2_id                          86868 non-null  int64 \n",
      " 2   geo_level_3_id                          86868 non-null  int64 \n",
      " 3   count_floors_pre_eq                     86868 non-null  int64 \n",
      " 4   age                                     86868 non-null  int64 \n",
      " 5   area_percentage                         86868 non-null  int64 \n",
      " 6   height_percentage                       86868 non-null  int64 \n",
      " 7   land_surface_condition                  86868 non-null  object\n",
      " 8   foundation_type                         86868 non-null  object\n",
      " 9   roof_type                               86868 non-null  object\n",
      " 10  ground_floor_type                       86868 non-null  object\n",
      " 11  other_floor_type                        86868 non-null  object\n",
      " 12  position                                86868 non-null  object\n",
      " 13  plan_configuration                      86868 non-null  object\n",
      " 14  has_superstructure_adobe_mud            86868 non-null  int64 \n",
      " 15  has_superstructure_mud_mortar_stone     86868 non-null  int64 \n",
      " 16  has_superstructure_stone_flag           86868 non-null  int64 \n",
      " 17  has_superstructure_cement_mortar_stone  86868 non-null  int64 \n",
      " 18  has_superstructure_mud_mortar_brick     86868 non-null  int64 \n",
      " 19  has_superstructure_cement_mortar_brick  86868 non-null  int64 \n",
      " 20  has_superstructure_timber               86868 non-null  int64 \n",
      " 21  has_superstructure_bamboo               86868 non-null  int64 \n",
      " 22  has_superstructure_rc_non_engineered    86868 non-null  int64 \n",
      " 23  has_superstructure_rc_engineered        86868 non-null  int64 \n",
      " 24  has_superstructure_other                86868 non-null  int64 \n",
      " 25  legal_ownership_status                  86868 non-null  object\n",
      " 26  count_families                          86868 non-null  int64 \n",
      " 27  has_secondary_use                       86868 non-null  int64 \n",
      " 28  has_secondary_use_agriculture           86868 non-null  int64 \n",
      " 29  has_secondary_use_hotel                 86868 non-null  int64 \n",
      " 30  has_secondary_use_rental                86868 non-null  int64 \n",
      " 31  has_secondary_use_institution           86868 non-null  int64 \n",
      " 32  has_secondary_use_school                86868 non-null  int64 \n",
      " 33  has_secondary_use_industry              86868 non-null  int64 \n",
      " 34  has_secondary_use_health_post           86868 non-null  int64 \n",
      " 35  has_secondary_use_gov_office            86868 non-null  int64 \n",
      " 36  has_secondary_use_use_police            86868 non-null  int64 \n",
      " 37  has_secondary_use_other                 86868 non-null  int64 \n",
      "dtypes: int64(30), object(8)\n",
      "memory usage: 25.8+ MB\n"
     ]
    }
   ],
   "source": [
    "test_values.info()"
   ]
  },
  {
   "cell_type": "markdown",
   "metadata": {},
   "source": [
    "El set de test tiene que tener el MISMO formato que usamos para entrenar.  \n",
    "Es decir, si le hicimos algunas modificaciones en las columnas al set de entrenamiento, también tenemos que hacerlas al set de test.  \n",
    "En este caso, solo seleccionamos algunas columnas y utilizamos One-Hot-Encoding para las variables categóricas (sget_dummies)"
   ]
  },
  {
   "cell_type": "markdown",
   "metadata": {},
   "source": [
    "Trasformar el set de test"
   ]
  },
  {
   "cell_type": "code",
   "execution_count": 96,
   "metadata": {},
   "outputs": [],
   "source": [
    "def agregar_columna_mean_damage(input_df,column_name,train_values,train_labels,damage_grade):\n",
    "    \"\"\"Recibe un df y calcula la media de daño 'damage_grade' para cada valor distinto de 'column_name' \n",
    "    \"\"\"\n",
    "    # Copio el df inicial para calcular mean sin afectar al input\n",
    "    df = train_values.copy()\n",
    "    df = df[[column_name]]\n",
    "    df = df.join(train_labels,on='building_id',how='inner')\n",
    "    \n",
    "    # Se le agrega una columna a df con 1 si el edificio recibio daño del tipo 'damage_grade',0 si no\n",
    "    df['count_damage_i'] = df['damage_grade'] == damage_grade\n",
    "    \n",
    "    # mean damage es un df con indice 'column_name' y como unica columna 'count_high_damage'\n",
    "    mean_damage = df.groupby(column_name).agg('mean')[['count_damage_i']]\n",
    "    \n",
    "    # output df es el df inicial pero ahora con una nueva columna con los daños medios para cada elemento\n",
    "    # de la columna 'column_name'\n",
    "    output_df = input_df.join(mean_damage,on=column_name,how='left',)\n",
    "    nombre_nueva_col = nombre_nueva_mean_col(column_name,damage_grade)\n",
    "   \n",
    "    # ahora esa columna tiene el nombre 'nombre_nueva_col'\n",
    "    output_df = output_df.rename(columns={'count_damage_i': nombre_nueva_col})\n",
    "    \n",
    "    # manejo de nulls -> agrego la media global de ese nombre_nueva_col si es null \n",
    "    mean_global = output_df[nombre_nueva_col].mean()\n",
    "    output_df[nombre_nueva_col] = output_df[nombre_nueva_col].fillna(value=mean_global)\n",
    "    return output_df\n"
   ]
  },
  {
   "cell_type": "code",
   "execution_count": 97,
   "metadata": {},
   "outputs": [],
   "source": [
    "### creo los pasos para que el pipeline cree las columnas de mean daño para cada daño y para cada geo_level_id\n",
    "steps_daños_test = []\n",
    "for geo_level_id in range(1,4):\n",
    "    for damage_grade in range(1,4):\n",
    "        nombre_step = 'add_damage_'+str(damage_grade)+'_geo_'+str(geo_level_id)\n",
    "        args = {'train_values':train_values,'train_labels': train_labels,'column_name': 'geo_level_'+str(geo_level_id)+'_id','damage_grade':damage_grade}\n",
    "        steps_daños_test.append((nombre_step,FunctionTransformer(agregar_columna_mean_damage,kw_args=args)))"
   ]
  },
  {
   "cell_type": "code",
   "execution_count": 98,
   "metadata": {},
   "outputs": [],
   "source": [
    "pipeline_daños_test = Pipeline(steps=steps_daños_test)\n",
    "#pipeline_daños_test"
   ]
  },
  {
   "cell_type": "code",
   "execution_count": 99,
   "metadata": {},
   "outputs": [],
   "source": [
    "steps_area_test = []\n",
    "for damage_grade in range(1,4):\n",
    "    nombre_step = 'add_damage_'+str(damage_grade)+'_height'\n",
    "    args = {'train_values':train_values,'train_labels': train_labels,'column_name': 'area_percentage','damage_grade':damage_grade}\n",
    "    steps_area_test.append((nombre_step,FunctionTransformer(agregar_columna_mean_damage,kw_args=args)))"
   ]
  },
  {
   "cell_type": "code",
   "execution_count": 100,
   "metadata": {},
   "outputs": [],
   "source": [
    "pipeline_area_test = Pipeline(steps=steps_area_test)\n"
   ]
  },
  {
   "cell_type": "code",
   "execution_count": 101,
   "metadata": {},
   "outputs": [],
   "source": [
    "## Solo para un caso de los que hice.. según la modificación se tiene que transformar..\n",
    "test_values_subset = pipeline_inicial.fit_transform(test_values)"
   ]
  },
  {
   "cell_type": "code",
   "execution_count": 102,
   "metadata": {},
   "outputs": [],
   "source": [
    "test_values_subset = pipeline_daños_test.fit_transform(test_values_subset)"
   ]
  },
  {
   "cell_type": "code",
   "execution_count": 103,
   "metadata": {},
   "outputs": [],
   "source": [
    "test_values_subset = pipeline_area_test.fit_transform(test_values_subset)"
   ]
  },
  {
   "cell_type": "code",
   "execution_count": 104,
   "metadata": {},
   "outputs": [],
   "source": [
    "test_values_subset = pd.get_dummies(test_values_subset)"
   ]
  },
  {
   "cell_type": "code",
   "execution_count": 105,
   "metadata": {},
   "outputs": [
    {
     "data": {
      "text/plain": [
       "True"
      ]
     },
     "execution_count": 105,
     "metadata": {},
     "output_type": "execute_result"
    }
   ],
   "source": [
    "test_values_subset.columns.to_list() == train_values_transformado.columns.to_list()"
   ]
  },
  {
   "cell_type": "code",
   "execution_count": 106,
   "metadata": {},
   "outputs": [
    {
     "name": "stdout",
     "output_type": "stream",
     "text": [
      "<class 'pandas.core.frame.DataFrame'>\n",
      "Int64Index: 86868 entries, 300051 to 501372\n",
      "Data columns (total 60 columns):\n",
      " #   Column                                  Non-Null Count  Dtype  \n",
      "---  ------                                  --------------  -----  \n",
      " 0   geo_level_1_id                          86868 non-null  int64  \n",
      " 1   geo_level_2_id                          86868 non-null  int64  \n",
      " 2   geo_level_3_id                          86868 non-null  int64  \n",
      " 3   count_floors_pre_eq                     86868 non-null  int64  \n",
      " 4   age                                     86868 non-null  int64  \n",
      " 5   area_percentage                         86868 non-null  int64  \n",
      " 6   height_percentage                       86868 non-null  int64  \n",
      " 7   has_superstructure_adobe_mud            86868 non-null  int64  \n",
      " 8   has_superstructure_mud_mortar_stone     86868 non-null  int64  \n",
      " 9   has_superstructure_stone_flag           86868 non-null  int64  \n",
      " 10  has_superstructure_cement_mortar_stone  86868 non-null  int64  \n",
      " 11  has_superstructure_mud_mortar_brick     86868 non-null  int64  \n",
      " 12  has_superstructure_cement_mortar_brick  86868 non-null  int64  \n",
      " 13  has_superstructure_timber               86868 non-null  int64  \n",
      " 14  has_superstructure_bamboo               86868 non-null  int64  \n",
      " 15  has_superstructure_rc_non_engineered    86868 non-null  int64  \n",
      " 16  has_superstructure_rc_engineered        86868 non-null  int64  \n",
      " 17  has_superstructure_other                86868 non-null  int64  \n",
      " 18  count_families                          86868 non-null  int64  \n",
      " 19  has_secondary_use                       86868 non-null  int64  \n",
      " 20  mean_low_damage_geo_level_1_id          86868 non-null  float64\n",
      " 21  mean_medium_damage_geo_level_1_id       86868 non-null  float64\n",
      " 22  mean_high_damage_geo_level_1_id         86868 non-null  float64\n",
      " 23  mean_low_damage_geo_level_2_id          86868 non-null  float64\n",
      " 24  mean_medium_damage_geo_level_2_id       86868 non-null  float64\n",
      " 25  mean_high_damage_geo_level_2_id         86868 non-null  float64\n",
      " 26  mean_low_damage_geo_level_3_id          86868 non-null  float64\n",
      " 27  mean_medium_damage_geo_level_3_id       86868 non-null  float64\n",
      " 28  mean_high_damage_geo_level_3_id         86868 non-null  float64\n",
      " 29  mean_low_damage_area_percentage         86868 non-null  float64\n",
      " 30  mean_medium_damage_area_percentage      86868 non-null  float64\n",
      " 31  mean_high_damage_area_percentage        86868 non-null  float64\n",
      " 32  land_surface_condition_n                86868 non-null  uint8  \n",
      " 33  land_surface_condition_o                86868 non-null  uint8  \n",
      " 34  land_surface_condition_t                86868 non-null  uint8  \n",
      " 35  foundation_type_h                       86868 non-null  uint8  \n",
      " 36  foundation_type_i                       86868 non-null  uint8  \n",
      " 37  foundation_type_r                       86868 non-null  uint8  \n",
      " 38  foundation_type_u                       86868 non-null  uint8  \n",
      " 39  foundation_type_w                       86868 non-null  uint8  \n",
      " 40  roof_type_n                             86868 non-null  uint8  \n",
      " 41  roof_type_q                             86868 non-null  uint8  \n",
      " 42  roof_type_x                             86868 non-null  uint8  \n",
      " 43  ground_floor_type_f                     86868 non-null  uint8  \n",
      " 44  ground_floor_type_m                     86868 non-null  uint8  \n",
      " 45  ground_floor_type_v                     86868 non-null  uint8  \n",
      " 46  ground_floor_type_x                     86868 non-null  uint8  \n",
      " 47  ground_floor_type_z                     86868 non-null  uint8  \n",
      " 48  other_floor_type_j                      86868 non-null  uint8  \n",
      " 49  other_floor_type_q                      86868 non-null  uint8  \n",
      " 50  other_floor_type_s                      86868 non-null  uint8  \n",
      " 51  other_floor_type_x                      86868 non-null  uint8  \n",
      " 52  position_j                              86868 non-null  uint8  \n",
      " 53  position_o                              86868 non-null  uint8  \n",
      " 54  position_s                              86868 non-null  uint8  \n",
      " 55  position_t                              86868 non-null  uint8  \n",
      " 56  legal_ownership_status_a                86868 non-null  uint8  \n",
      " 57  legal_ownership_status_r                86868 non-null  uint8  \n",
      " 58  legal_ownership_status_v                86868 non-null  uint8  \n",
      " 59  legal_ownership_status_w                86868 non-null  uint8  \n",
      "dtypes: float64(12), int64(20), uint8(28)\n",
      "memory usage: 24.2 MB\n"
     ]
    }
   ],
   "source": [
    "test_values_subset.info()"
   ]
  },
  {
   "cell_type": "markdown",
   "metadata": {},
   "source": [
    "Predicimos con modelo.predict(set_test_transformado) Le pasamos los valores del set de test."
   ]
  },
  {
   "cell_type": "code",
   "execution_count": 113,
   "metadata": {},
   "outputs": [],
   "source": [
    "predictions = xgb_model.predict(test_values_subset)"
   ]
  },
  {
   "cell_type": "markdown",
   "metadata": {},
   "source": [
    "Guardamos el submit. Lo pasamos a Pandas y de ahí a CSV (por tema de formato).  \n",
    "Esto es lo que se sube a la página de DrivenData"
   ]
  },
  {
   "cell_type": "code",
   "execution_count": 114,
   "metadata": {},
   "outputs": [],
   "source": [
    "submission_format = pd.read_csv('datos/submission_format.csv', index_col='building_id')"
   ]
  },
  {
   "cell_type": "code",
   "execution_count": 115,
   "metadata": {},
   "outputs": [],
   "source": [
    "my_submission = pd.DataFrame(data=predictions,\n",
    "                             columns=submission_format.columns,\n",
    "                             index=submission_format.index)"
   ]
  },
  {
   "cell_type": "code",
   "execution_count": 116,
   "metadata": {},
   "outputs": [
    {
     "data": {
      "text/html": [
       "<div>\n",
       "<style scoped>\n",
       "    .dataframe tbody tr th:only-of-type {\n",
       "        vertical-align: middle;\n",
       "    }\n",
       "\n",
       "    .dataframe tbody tr th {\n",
       "        vertical-align: top;\n",
       "    }\n",
       "\n",
       "    .dataframe thead th {\n",
       "        text-align: right;\n",
       "    }\n",
       "</style>\n",
       "<table border=\"1\" class=\"dataframe\">\n",
       "  <thead>\n",
       "    <tr style=\"text-align: right;\">\n",
       "      <th></th>\n",
       "      <th>damage_grade</th>\n",
       "    </tr>\n",
       "    <tr>\n",
       "      <th>building_id</th>\n",
       "      <th></th>\n",
       "    </tr>\n",
       "  </thead>\n",
       "  <tbody>\n",
       "    <tr>\n",
       "      <th>300051</th>\n",
       "      <td>3</td>\n",
       "    </tr>\n",
       "    <tr>\n",
       "      <th>99355</th>\n",
       "      <td>2</td>\n",
       "    </tr>\n",
       "    <tr>\n",
       "      <th>890251</th>\n",
       "      <td>3</td>\n",
       "    </tr>\n",
       "    <tr>\n",
       "      <th>745817</th>\n",
       "      <td>1</td>\n",
       "    </tr>\n",
       "    <tr>\n",
       "      <th>421793</th>\n",
       "      <td>3</td>\n",
       "    </tr>\n",
       "  </tbody>\n",
       "</table>\n",
       "</div>"
      ],
      "text/plain": [
       "             damage_grade\n",
       "building_id              \n",
       "300051                  3\n",
       "99355                   2\n",
       "890251                  3\n",
       "745817                  1\n",
       "421793                  3"
      ]
     },
     "execution_count": 116,
     "metadata": {},
     "output_type": "execute_result"
    }
   ],
   "source": [
    "my_submission.head()"
   ]
  },
  {
   "cell_type": "code",
   "execution_count": 117,
   "metadata": {},
   "outputs": [],
   "source": [
    "# Cambiar el nombre al submission para comparar resultados es buena idea..\n",
    "my_submission.to_csv('submissions/last_submission.csv')"
   ]
  },
  {
   "cell_type": "markdown",
   "metadata": {},
   "source": [
    "Una mirada adentro del csv"
   ]
  },
  {
   "cell_type": "code",
   "execution_count": 118,
   "metadata": {},
   "outputs": [
    {
     "name": "stdout",
     "output_type": "stream",
     "text": [
      "building_id,damage_grade\n",
      "300051,3\n",
      "99355,2\n",
      "890251,3\n",
      "745817,1\n",
      "421793,3\n",
      "871976,2\n",
      "691228,2\n",
      "896100,3\n",
      "343471,2\n"
     ]
    }
   ],
   "source": [
    "!head 'submissions/last_submission.csv'"
   ]
  }
 ],
 "metadata": {
  "kernelspec": {
   "display_name": "Python 3",
   "language": "python",
   "name": "python3"
  },
  "language_info": {
   "codemirror_mode": {
    "name": "ipython",
    "version": 3
   },
   "file_extension": ".py",
   "mimetype": "text/x-python",
   "name": "python",
   "nbconvert_exporter": "python",
   "pygments_lexer": "ipython3",
   "version": "3.9.1"
  }
 },
 "nbformat": 4,
 "nbformat_minor": 4
}
